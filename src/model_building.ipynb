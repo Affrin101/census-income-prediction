{
 "cells": [
  {
   "cell_type": "code",
   "execution_count": 1,
   "id": "fb252e3f-b897-44f1-8a0e-290938866687",
   "metadata": {},
   "outputs": [],
   "source": [
    "import altair as alt\n",
    "import numpy as np\n",
    "import pandas as pd\n",
    "import matplotlib.pyplot as plt \n",
    "from scipy.stats import loguniform\n",
    "import sklearn\n",
    "from sklearn.compose import make_column_transformer\n",
    "from sklearn.dummy import DummyClassifier\n",
    "from sklearn.ensemble import RandomForestClassifier\n",
    "from sklearn.metrics import (\n",
    "    accuracy_score, recall_score, precision_score,\n",
    "    f1_score, precision_recall_curve, average_precision_score,\n",
    "    classification_report, confusion_matrix,\n",
    "    PrecisionRecallDisplay, roc_curve, roc_auc_score\n",
    ")\n",
    "from sklearn.model_selection import (\n",
    "    cross_validate, RandomizedSearchCV\n",
    ")\n",
    "from sklearn.pipeline import make_pipeline\n",
    "from sklearn.preprocessing import (\n",
    "    StandardScaler, OneHotEncoder\n",
    ")\n",
    "from sklearn.model_selection import cross_val_predict"
   ]
  },
  {
   "cell_type": "code",
   "execution_count": 2,
   "id": "95577bb7-9658-491e-a609-62c2641a392a",
   "metadata": {},
   "outputs": [
    {
     "data": {
      "text/plain": [
       "RendererRegistry.enable('mimetype')"
      ]
     },
     "execution_count": 2,
     "metadata": {},
     "output_type": "execute_result"
    }
   ],
   "source": [
    "alt.data_transformers.enable('data_server')\n",
    "alt.renderers.enable('mimetype')"
   ]
  },
  {
   "cell_type": "code",
   "execution_count": 3,
   "id": "9cb86521-8585-4173-9e02-d0ebb2dd4ff1",
   "metadata": {},
   "outputs": [],
   "source": [
    "# Read Data\n",
    "train_df = pd.read_csv(\"../data/preprocessed/clean_train.csv\")\n",
    "test_df = pd.read_csv(\"../data/preprocessed/clean_test.csv\")\n",
    "\n",
    "\n",
    "# Transform native_country into binary\n",
    "train_df['native_country'] = train_df['native_country'] == 'United-States'\n",
    "test_df['native_country'] = test_df['native_country'] == 'United-States'\n",
    "\n",
    "# Set positive label to \">50K\", which is the class with smaller proportion\n",
    "train_df['income'] = train_df['income'] == '>50K'\n",
    "test_df['income'] = test_df['income'] == '>50K'"
   ]
  },
  {
   "cell_type": "code",
   "execution_count": 4,
   "id": "d4273f65-1b25-450e-8c08-ecaadeba2bf5",
   "metadata": {},
   "outputs": [],
   "source": [
    "# Split data into features & target\n",
    "X_train = train_df.drop(\"income\", axis=1)\n",
    "y_train = train_df['income']\n",
    "X_test = test_df.drop(\"income\", axis=1)\n",
    "y_test = test_df['income']"
   ]
  },
  {
   "cell_type": "code",
   "execution_count": 5,
   "id": "2ae7bbeb-1975-4ec4-8b33-efff3e365e83",
   "metadata": {},
   "outputs": [],
   "source": [
    "# Preprocessing\n",
    "numeric_feats = ['age', 'fnlwgt', 'hours_per_week']\n",
    "categorical_null_feats = ['workclass', \"occupation\"]\n",
    "categorical_nonull_feats = [\"marital_status\", \"relationship\"]\n",
    "\n",
    "binary_feats = ['sex', 'native_country']\n",
    "passthrough_feats = ['education_num']\n",
    "drop_feats = ['education', 'race', 'capital_gain', 'capital_loss']\n",
    "\n",
    "col_trans = make_column_transformer(\n",
    "    (StandardScaler(), numeric_feats),\n",
    "    (OneHotEncoder(sparse=False, handle_unknown='ignore', drop=[np.nan] * 2), categorical_null_feats),\n",
    "    (OneHotEncoder(sparse=False, handle_unknown='ignore'), categorical_nonull_feats),\n",
    "    (OneHotEncoder(drop='if_binary'), binary_feats),\n",
    "    ('passthrough', passthrough_feats),\n",
    "    ('drop', drop_feats)\n",
    ")"
   ]
  },
  {
   "cell_type": "code",
   "execution_count": 6,
   "id": "90c7df29-35c3-45ff-a1fb-bf5891f83568",
   "metadata": {
    "tags": []
   },
   "outputs": [
    {
     "name": "stderr",
     "output_type": "stream",
     "text": [
      "/Users/sukhleen/opt/miniconda3/envs/census-income/lib/python3.9/site-packages/sklearn/metrics/_classification.py:1308: UndefinedMetricWarning: Precision is ill-defined and being set to 0.0 due to no predicted samples. Use `zero_division` parameter to control this behavior.\n",
      "  _warn_prf(average, modifier, msg_start, len(result))\n",
      "/Users/sukhleen/opt/miniconda3/envs/census-income/lib/python3.9/site-packages/sklearn/metrics/_classification.py:1308: UndefinedMetricWarning: Precision is ill-defined and being set to 0.0 due to no predicted samples. Use `zero_division` parameter to control this behavior.\n",
      "  _warn_prf(average, modifier, msg_start, len(result))\n",
      "/Users/sukhleen/opt/miniconda3/envs/census-income/lib/python3.9/site-packages/sklearn/metrics/_classification.py:1308: UndefinedMetricWarning: Precision is ill-defined and being set to 0.0 due to no predicted samples. Use `zero_division` parameter to control this behavior.\n",
      "  _warn_prf(average, modifier, msg_start, len(result))\n",
      "/Users/sukhleen/opt/miniconda3/envs/census-income/lib/python3.9/site-packages/sklearn/metrics/_classification.py:1308: UndefinedMetricWarning: Precision is ill-defined and being set to 0.0 due to no predicted samples. Use `zero_division` parameter to control this behavior.\n",
      "  _warn_prf(average, modifier, msg_start, len(result))\n",
      "/Users/sukhleen/opt/miniconda3/envs/census-income/lib/python3.9/site-packages/sklearn/metrics/_classification.py:1308: UndefinedMetricWarning: Precision is ill-defined and being set to 0.0 due to no predicted samples. Use `zero_division` parameter to control this behavior.\n",
      "  _warn_prf(average, modifier, msg_start, len(result))\n"
     ]
    }
   ],
   "source": [
    "# Calculate Baseline Performances\n",
    "scoring = ['accuracy', 'precision', 'recall', 'f1']\n",
    "results = {}\n",
    "pipe_dummy = make_pipeline(\n",
    "    col_trans,\n",
    "    DummyClassifier()\n",
    ")\n",
    "results['DummyClassifier'] = pd.DataFrame(cross_validate(pipe_dummy, X_train, y_train, scoring=scoring)).mean()\n",
    "\n",
    "# Calculate Baseline Perfromance for Random Forest Classifier\n",
    "pipe_forest = make_pipeline(\n",
    "    col_trans,\n",
    "    RandomForestClassifier(random_state=522)\n",
    ")\n",
    "results['RandomForest_default'] = pd.DataFrame(cross_validate(pipe_forest, X_train, y_train, scoring=scoring)).mean()"
   ]
  },
  {
   "cell_type": "code",
   "execution_count": 7,
   "id": "e450adc2-2327-4c06-9ae5-0f2625676bde",
   "metadata": {
    "tags": []
   },
   "outputs": [
    {
     "data": {
      "text/html": [
       "<div>\n",
       "<style scoped>\n",
       "    .dataframe tbody tr th:only-of-type {\n",
       "        vertical-align: middle;\n",
       "    }\n",
       "\n",
       "    .dataframe tbody tr th {\n",
       "        vertical-align: top;\n",
       "    }\n",
       "\n",
       "    .dataframe thead th {\n",
       "        text-align: right;\n",
       "    }\n",
       "</style>\n",
       "<table border=\"1\" class=\"dataframe\">\n",
       "  <thead>\n",
       "    <tr style=\"text-align: right;\">\n",
       "      <th></th>\n",
       "      <th>DummyClassifier</th>\n",
       "      <th>RandomForest_default</th>\n",
       "    </tr>\n",
       "  </thead>\n",
       "  <tbody>\n",
       "    <tr>\n",
       "      <th>fit_time</th>\n",
       "      <td>0.038903</td>\n",
       "      <td>1.694571</td>\n",
       "    </tr>\n",
       "    <tr>\n",
       "      <th>score_time</th>\n",
       "      <td>0.015839</td>\n",
       "      <td>0.113967</td>\n",
       "    </tr>\n",
       "    <tr>\n",
       "      <th>test_accuracy</th>\n",
       "      <td>0.759190</td>\n",
       "      <td>0.827278</td>\n",
       "    </tr>\n",
       "    <tr>\n",
       "      <th>test_precision</th>\n",
       "      <td>0.000000</td>\n",
       "      <td>0.667138</td>\n",
       "    </tr>\n",
       "    <tr>\n",
       "      <th>test_recall</th>\n",
       "      <td>0.000000</td>\n",
       "      <td>0.564342</td>\n",
       "    </tr>\n",
       "    <tr>\n",
       "      <th>test_f1</th>\n",
       "      <td>0.000000</td>\n",
       "      <td>0.611435</td>\n",
       "    </tr>\n",
       "  </tbody>\n",
       "</table>\n",
       "</div>"
      ],
      "text/plain": [
       "                DummyClassifier  RandomForest_default\n",
       "fit_time               0.038903              1.694571\n",
       "score_time             0.015839              0.113967\n",
       "test_accuracy          0.759190              0.827278\n",
       "test_precision         0.000000              0.667138\n",
       "test_recall            0.000000              0.564342\n",
       "test_f1                0.000000              0.611435"
      ]
     },
     "execution_count": 7,
     "metadata": {},
     "output_type": "execute_result"
    }
   ],
   "source": [
    "pd.DataFrame(results)"
   ]
  },
  {
   "cell_type": "code",
   "execution_count": 8,
   "id": "64a3c58b-5d40-4020-b125-22f4e85e14d3",
   "metadata": {},
   "outputs": [],
   "source": [
    "param_dist = {\n",
    "    \"randomforestclassifier__class_weight\": [None, \"balanced\"],\n",
    "    \"randomforestclassifier__n_estimators\": [10, 20, 50, 100, 200, 500],\n",
    "    \"randomforestclassifier__max_depth\": np.arange(10, 20, 2)\n",
    "}\n",
    "rand_search_rf = RandomizedSearchCV(pipe_forest, param_dist, n_iter=20, \n",
    "                                    random_state=952, scoring=scoring, refit=\"f1\")\n",
    "\n",
    "rand_search_rf.fit(X_train, y_train);"
   ]
  },
  {
   "cell_type": "code",
   "execution_count": 9,
   "id": "7311f1f4-b017-4ef4-baa4-eff7caab7cf5",
   "metadata": {},
   "outputs": [
    {
     "data": {
      "text/html": [
       "<div>\n",
       "<style scoped>\n",
       "    .dataframe tbody tr th:only-of-type {\n",
       "        vertical-align: middle;\n",
       "    }\n",
       "\n",
       "    .dataframe tbody tr th {\n",
       "        vertical-align: top;\n",
       "    }\n",
       "\n",
       "    .dataframe thead th {\n",
       "        text-align: right;\n",
       "    }\n",
       "</style>\n",
       "<table border=\"1\" class=\"dataframe\">\n",
       "  <thead>\n",
       "    <tr style=\"text-align: right;\">\n",
       "      <th></th>\n",
       "      <th>param_randomforestclassifier__n_estimators</th>\n",
       "      <th>param_randomforestclassifier__max_depth</th>\n",
       "      <th>param_randomforestclassifier__class_weight</th>\n",
       "      <th>mean_test_accuracy</th>\n",
       "      <th>mean_test_precision</th>\n",
       "      <th>mean_test_recall</th>\n",
       "      <th>mean_test_f1</th>\n",
       "    </tr>\n",
       "  </thead>\n",
       "  <tbody>\n",
       "    <tr>\n",
       "      <th>10</th>\n",
       "      <td>200</td>\n",
       "      <td>16</td>\n",
       "      <td>balanced</td>\n",
       "      <td>0.811461</td>\n",
       "      <td>0.580237</td>\n",
       "      <td>0.784975</td>\n",
       "      <td>0.667217</td>\n",
       "    </tr>\n",
       "    <tr>\n",
       "      <th>18</th>\n",
       "      <td>20</td>\n",
       "      <td>16</td>\n",
       "      <td>balanced</td>\n",
       "      <td>0.810571</td>\n",
       "      <td>0.578688</td>\n",
       "      <td>0.784721</td>\n",
       "      <td>0.666094</td>\n",
       "    </tr>\n",
       "    <tr>\n",
       "      <th>16</th>\n",
       "      <td>100</td>\n",
       "      <td>18</td>\n",
       "      <td>balanced</td>\n",
       "      <td>0.816345</td>\n",
       "      <td>0.593162</td>\n",
       "      <td>0.755643</td>\n",
       "      <td>0.664572</td>\n",
       "    </tr>\n",
       "    <tr>\n",
       "      <th>3</th>\n",
       "      <td>200</td>\n",
       "      <td>12</td>\n",
       "      <td>balanced</td>\n",
       "      <td>0.795062</td>\n",
       "      <td>0.548921</td>\n",
       "      <td>0.835863</td>\n",
       "      <td>0.662660</td>\n",
       "    </tr>\n",
       "    <tr>\n",
       "      <th>11</th>\n",
       "      <td>50</td>\n",
       "      <td>12</td>\n",
       "      <td>balanced</td>\n",
       "      <td>0.795123</td>\n",
       "      <td>0.549109</td>\n",
       "      <td>0.834715</td>\n",
       "      <td>0.662420</td>\n",
       "    </tr>\n",
       "    <tr>\n",
       "      <th>6</th>\n",
       "      <td>20</td>\n",
       "      <td>12</td>\n",
       "      <td>balanced</td>\n",
       "      <td>0.795584</td>\n",
       "      <td>0.550227</td>\n",
       "      <td>0.828466</td>\n",
       "      <td>0.661240</td>\n",
       "    </tr>\n",
       "    <tr>\n",
       "      <th>7</th>\n",
       "      <td>10</td>\n",
       "      <td>18</td>\n",
       "      <td>balanced</td>\n",
       "      <td>0.811308</td>\n",
       "      <td>0.585185</td>\n",
       "      <td>0.744292</td>\n",
       "      <td>0.655167</td>\n",
       "    </tr>\n",
       "    <tr>\n",
       "      <th>14</th>\n",
       "      <td>50</td>\n",
       "      <td>10</td>\n",
       "      <td>balanced</td>\n",
       "      <td>0.780781</td>\n",
       "      <td>0.527664</td>\n",
       "      <td>0.856905</td>\n",
       "      <td>0.653112</td>\n",
       "    </tr>\n",
       "    <tr>\n",
       "      <th>1</th>\n",
       "      <td>50</td>\n",
       "      <td>18</td>\n",
       "      <td>None</td>\n",
       "      <td>0.840023</td>\n",
       "      <td>0.712278</td>\n",
       "      <td>0.563831</td>\n",
       "      <td>0.629317</td>\n",
       "    </tr>\n",
       "    <tr>\n",
       "      <th>15</th>\n",
       "      <td>500</td>\n",
       "      <td>18</td>\n",
       "      <td>None</td>\n",
       "      <td>0.840331</td>\n",
       "      <td>0.714309</td>\n",
       "      <td>0.562046</td>\n",
       "      <td>0.629031</td>\n",
       "    </tr>\n",
       "    <tr>\n",
       "      <th>0</th>\n",
       "      <td>50</td>\n",
       "      <td>16</td>\n",
       "      <td>None</td>\n",
       "      <td>0.839440</td>\n",
       "      <td>0.716106</td>\n",
       "      <td>0.552481</td>\n",
       "      <td>0.623699</td>\n",
       "    </tr>\n",
       "    <tr>\n",
       "      <th>5</th>\n",
       "      <td>50</td>\n",
       "      <td>14</td>\n",
       "      <td>None</td>\n",
       "      <td>0.840331</td>\n",
       "      <td>0.724261</td>\n",
       "      <td>0.544830</td>\n",
       "      <td>0.621745</td>\n",
       "    </tr>\n",
       "    <tr>\n",
       "      <th>4</th>\n",
       "      <td>20</td>\n",
       "      <td>14</td>\n",
       "      <td>None</td>\n",
       "      <td>0.839225</td>\n",
       "      <td>0.720737</td>\n",
       "      <td>0.543427</td>\n",
       "      <td>0.619484</td>\n",
       "    </tr>\n",
       "    <tr>\n",
       "      <th>12</th>\n",
       "      <td>100</td>\n",
       "      <td>14</td>\n",
       "      <td>None</td>\n",
       "      <td>0.839747</td>\n",
       "      <td>0.723995</td>\n",
       "      <td>0.541258</td>\n",
       "      <td>0.619334</td>\n",
       "    </tr>\n",
       "    <tr>\n",
       "      <th>19</th>\n",
       "      <td>10</td>\n",
       "      <td>16</td>\n",
       "      <td>None</td>\n",
       "      <td>0.835079</td>\n",
       "      <td>0.702422</td>\n",
       "      <td>0.546997</td>\n",
       "      <td>0.615019</td>\n",
       "    </tr>\n",
       "    <tr>\n",
       "      <th>2</th>\n",
       "      <td>10</td>\n",
       "      <td>14</td>\n",
       "      <td>None</td>\n",
       "      <td>0.835017</td>\n",
       "      <td>0.706968</td>\n",
       "      <td>0.538708</td>\n",
       "      <td>0.611324</td>\n",
       "    </tr>\n",
       "    <tr>\n",
       "      <th>9</th>\n",
       "      <td>500</td>\n",
       "      <td>12</td>\n",
       "      <td>None</td>\n",
       "      <td>0.838365</td>\n",
       "      <td>0.731105</td>\n",
       "      <td>0.520470</td>\n",
       "      <td>0.607991</td>\n",
       "    </tr>\n",
       "    <tr>\n",
       "      <th>17</th>\n",
       "      <td>10</td>\n",
       "      <td>12</td>\n",
       "      <td>None</td>\n",
       "      <td>0.835755</td>\n",
       "      <td>0.715622</td>\n",
       "      <td>0.527740</td>\n",
       "      <td>0.607455</td>\n",
       "    </tr>\n",
       "    <tr>\n",
       "      <th>13</th>\n",
       "      <td>20</td>\n",
       "      <td>10</td>\n",
       "      <td>None</td>\n",
       "      <td>0.835478</td>\n",
       "      <td>0.731716</td>\n",
       "      <td>0.500573</td>\n",
       "      <td>0.594390</td>\n",
       "    </tr>\n",
       "    <tr>\n",
       "      <th>8</th>\n",
       "      <td>100</td>\n",
       "      <td>10</td>\n",
       "      <td>None</td>\n",
       "      <td>0.835877</td>\n",
       "      <td>0.734925</td>\n",
       "      <td>0.498280</td>\n",
       "      <td>0.593839</td>\n",
       "    </tr>\n",
       "  </tbody>\n",
       "</table>\n",
       "</div>"
      ],
      "text/plain": [
       "   param_randomforestclassifier__n_estimators  \\\n",
       "10                                        200   \n",
       "18                                         20   \n",
       "16                                        100   \n",
       "3                                         200   \n",
       "11                                         50   \n",
       "6                                          20   \n",
       "7                                          10   \n",
       "14                                         50   \n",
       "1                                          50   \n",
       "15                                        500   \n",
       "0                                          50   \n",
       "5                                          50   \n",
       "4                                          20   \n",
       "12                                        100   \n",
       "19                                         10   \n",
       "2                                          10   \n",
       "9                                         500   \n",
       "17                                         10   \n",
       "13                                         20   \n",
       "8                                         100   \n",
       "\n",
       "   param_randomforestclassifier__max_depth  \\\n",
       "10                                      16   \n",
       "18                                      16   \n",
       "16                                      18   \n",
       "3                                       12   \n",
       "11                                      12   \n",
       "6                                       12   \n",
       "7                                       18   \n",
       "14                                      10   \n",
       "1                                       18   \n",
       "15                                      18   \n",
       "0                                       16   \n",
       "5                                       14   \n",
       "4                                       14   \n",
       "12                                      14   \n",
       "19                                      16   \n",
       "2                                       14   \n",
       "9                                       12   \n",
       "17                                      12   \n",
       "13                                      10   \n",
       "8                                       10   \n",
       "\n",
       "   param_randomforestclassifier__class_weight  mean_test_accuracy  \\\n",
       "10                                   balanced            0.811461   \n",
       "18                                   balanced            0.810571   \n",
       "16                                   balanced            0.816345   \n",
       "3                                    balanced            0.795062   \n",
       "11                                   balanced            0.795123   \n",
       "6                                    balanced            0.795584   \n",
       "7                                    balanced            0.811308   \n",
       "14                                   balanced            0.780781   \n",
       "1                                        None            0.840023   \n",
       "15                                       None            0.840331   \n",
       "0                                        None            0.839440   \n",
       "5                                        None            0.840331   \n",
       "4                                        None            0.839225   \n",
       "12                                       None            0.839747   \n",
       "19                                       None            0.835079   \n",
       "2                                        None            0.835017   \n",
       "9                                        None            0.838365   \n",
       "17                                       None            0.835755   \n",
       "13                                       None            0.835478   \n",
       "8                                        None            0.835877   \n",
       "\n",
       "    mean_test_precision  mean_test_recall  mean_test_f1  \n",
       "10             0.580237          0.784975      0.667217  \n",
       "18             0.578688          0.784721      0.666094  \n",
       "16             0.593162          0.755643      0.664572  \n",
       "3              0.548921          0.835863      0.662660  \n",
       "11             0.549109          0.834715      0.662420  \n",
       "6              0.550227          0.828466      0.661240  \n",
       "7              0.585185          0.744292      0.655167  \n",
       "14             0.527664          0.856905      0.653112  \n",
       "1              0.712278          0.563831      0.629317  \n",
       "15             0.714309          0.562046      0.629031  \n",
       "0              0.716106          0.552481      0.623699  \n",
       "5              0.724261          0.544830      0.621745  \n",
       "4              0.720737          0.543427      0.619484  \n",
       "12             0.723995          0.541258      0.619334  \n",
       "19             0.702422          0.546997      0.615019  \n",
       "2              0.706968          0.538708      0.611324  \n",
       "9              0.731105          0.520470      0.607991  \n",
       "17             0.715622          0.527740      0.607455  \n",
       "13             0.731716          0.500573      0.594390  \n",
       "8              0.734925          0.498280      0.593839  "
      ]
     },
     "execution_count": 9,
     "metadata": {},
     "output_type": "execute_result"
    }
   ],
   "source": [
    "hyperparam_result = pd.DataFrame(\n",
    "    rand_search_rf.cv_results_\n",
    ").sort_values(\"rank_test_f1\")[['param_randomforestclassifier__n_estimators',\n",
    "                                     'param_randomforestclassifier__max_depth',\n",
    "                                     'param_randomforestclassifier__class_weight',\n",
    "                                     'mean_test_accuracy',\n",
    "                                     'mean_test_precision',\n",
    "                                     'mean_test_recall',\n",
    "                                     'mean_test_f1',\n",
    "                                    ]]\n",
    "hyperparam_result"
   ]
  },
  {
   "cell_type": "code",
   "execution_count": 10,
   "id": "f1b8d387-6691-4030-a978-794909aee470",
   "metadata": {},
   "outputs": [],
   "source": [
    "# Evaluate Model with test data set\n",
    "y_pred_train = rand_search_rf.predict(X_train)\n",
    "y_pred = rand_search_rf.predict(X_test)"
   ]
  },
  {
   "cell_type": "code",
   "execution_count": 11,
   "id": "14a32dc4-c211-4a8a-9909-193d0a28b889",
   "metadata": {},
   "outputs": [
    {
     "data": {
      "text/html": [
       "<div>\n",
       "<style scoped>\n",
       "    .dataframe tbody tr th:only-of-type {\n",
       "        vertical-align: middle;\n",
       "    }\n",
       "\n",
       "    .dataframe tbody tr th {\n",
       "        vertical-align: top;\n",
       "    }\n",
       "\n",
       "    .dataframe thead th {\n",
       "        text-align: right;\n",
       "    }\n",
       "</style>\n",
       "<table border=\"1\" class=\"dataframe\">\n",
       "  <thead>\n",
       "    <tr style=\"text-align: right;\">\n",
       "      <th></th>\n",
       "      <th>Accuracy</th>\n",
       "      <th>Precision</th>\n",
       "      <th>Recall</th>\n",
       "      <th>F1 Score</th>\n",
       "    </tr>\n",
       "  </thead>\n",
       "  <tbody>\n",
       "    <tr>\n",
       "      <th>Train Data</th>\n",
       "      <td>0.868493</td>\n",
       "      <td>0.660388</td>\n",
       "      <td>0.934447</td>\n",
       "      <td>0.773870</td>\n",
       "    </tr>\n",
       "    <tr>\n",
       "      <th>Test Data</th>\n",
       "      <td>0.810577</td>\n",
       "      <td>0.571751</td>\n",
       "      <td>0.789392</td>\n",
       "      <td>0.663172</td>\n",
       "    </tr>\n",
       "  </tbody>\n",
       "</table>\n",
       "</div>"
      ],
      "text/plain": [
       "            Accuracy  Precision    Recall  F1 Score\n",
       "Train Data  0.868493   0.660388  0.934447  0.773870\n",
       "Test Data   0.810577   0.571751  0.789392  0.663172"
      ]
     },
     "execution_count": 11,
     "metadata": {},
     "output_type": "execute_result"
    }
   ],
   "source": [
    "# Table of Metrics for positive class for train and test set\n",
    "model_perf_df = pd.DataFrame(\n",
    "    {\n",
    "        \"Accuracy\": [accuracy_score(y_train, y_pred_train), accuracy_score(y_test, y_pred)],\n",
    "        \"Precision\": [precision_score(y_train, y_pred_train), precision_score(y_test, y_pred)],\n",
    "        \"Recall\": [recall_score(y_train, y_pred_train), recall_score(y_test, y_pred)],\n",
    "        \"F1 Score\": [f1_score(y_train, y_pred_train), f1_score(y_test, y_pred)]\n",
    "    },\n",
    "    index=[\"Train Data\", \"Test Data\"])\n",
    "model_perf_df"
   ]
  },
  {
   "cell_type": "code",
   "execution_count": 12,
   "id": "d5778055-525d-41d3-9048-fc931fb9d2b8",
   "metadata": {},
   "outputs": [
    {
     "data": {
      "text/html": [
       "<div>\n",
       "<style scoped>\n",
       "    .dataframe tbody tr th:only-of-type {\n",
       "        vertical-align: middle;\n",
       "    }\n",
       "\n",
       "    .dataframe tbody tr th {\n",
       "        vertical-align: top;\n",
       "    }\n",
       "\n",
       "    .dataframe thead th {\n",
       "        text-align: right;\n",
       "    }\n",
       "</style>\n",
       "<table border=\"1\" class=\"dataframe\">\n",
       "  <thead>\n",
       "    <tr style=\"text-align: right;\">\n",
       "      <th></th>\n",
       "      <th>Predicted negative (0)</th>\n",
       "      <th>Predicted positive (1)</th>\n",
       "    </tr>\n",
       "  </thead>\n",
       "  <tbody>\n",
       "    <tr>\n",
       "      <th>True negative (0)</th>\n",
       "      <td>11393</td>\n",
       "      <td>1042</td>\n",
       "    </tr>\n",
       "    <tr>\n",
       "      <th>True positive (1)</th>\n",
       "      <td>1715</td>\n",
       "      <td>2131</td>\n",
       "    </tr>\n",
       "  </tbody>\n",
       "</table>\n",
       "</div>"
      ],
      "text/plain": [
       "                   Predicted negative (0)  Predicted positive (1)\n",
       "True negative (0)                   11393                    1042\n",
       "True positive (1)                    1715                    2131"
      ]
     },
     "execution_count": 12,
     "metadata": {},
     "output_type": "execute_result"
    }
   ],
   "source": [
    "# Confusion Matrix for the test set\n",
    "\n",
    "test_confusion_matrix = pd.DataFrame(confusion_matrix(y_test, cross_val_predict(pipe_forest, X_test, y_test)),\n",
    "            columns = ['Predicted negative (0)', 'Predicted positive (1)'],\n",
    "            index = ['True negative (0)', 'True positive (1)'])\n",
    "test_confusion_matrix"
   ]
  },
  {
   "cell_type": "code",
   "execution_count": 13,
   "id": "1a5b00a0-9c45-4259-bb98-0677c144b538",
   "metadata": {},
   "outputs": [],
   "source": [
    "# Classification report for test set\n",
    "\n",
    "pipe_forest.fit(X_train, y_train)\n",
    "\n",
    "y_pred = pipe_forest.predict(X_test)\n",
    "report = classification_report(y_test, y_pred, target_names=[\"negative (0)\", \"positive (1)\"], output_dict=True)\n",
    "classification_report = pd.DataFrame(report).transpose()"
   ]
  },
  {
   "cell_type": "code",
   "execution_count": 14,
   "id": "474c6615-cb63-4ef4-bc56-3909171065a9",
   "metadata": {},
   "outputs": [
    {
     "data": {
      "text/html": [
       "<div>\n",
       "<style scoped>\n",
       "    .dataframe tbody tr th:only-of-type {\n",
       "        vertical-align: middle;\n",
       "    }\n",
       "\n",
       "    .dataframe tbody tr th {\n",
       "        vertical-align: top;\n",
       "    }\n",
       "\n",
       "    .dataframe thead th {\n",
       "        text-align: right;\n",
       "    }\n",
       "</style>\n",
       "<table border=\"1\" class=\"dataframe\">\n",
       "  <thead>\n",
       "    <tr style=\"text-align: right;\">\n",
       "      <th></th>\n",
       "      <th>precision</th>\n",
       "      <th>recall</th>\n",
       "      <th>threshold</th>\n",
       "      <th>F1 Score</th>\n",
       "    </tr>\n",
       "  </thead>\n",
       "  <tbody>\n",
       "    <tr>\n",
       "      <th>0</th>\n",
       "      <td>0.449702</td>\n",
       "      <td>1.000000</td>\n",
       "      <td>0.155372</td>\n",
       "      <td>0.620406</td>\n",
       "    </tr>\n",
       "    <tr>\n",
       "      <th>1</th>\n",
       "      <td>0.449670</td>\n",
       "      <td>0.999872</td>\n",
       "      <td>0.155387</td>\n",
       "      <td>0.620351</td>\n",
       "    </tr>\n",
       "    <tr>\n",
       "      <th>2</th>\n",
       "      <td>0.449696</td>\n",
       "      <td>0.999872</td>\n",
       "      <td>0.155421</td>\n",
       "      <td>0.620376</td>\n",
       "    </tr>\n",
       "    <tr>\n",
       "      <th>3</th>\n",
       "      <td>0.449722</td>\n",
       "      <td>0.999872</td>\n",
       "      <td>0.155487</td>\n",
       "      <td>0.620400</td>\n",
       "    </tr>\n",
       "    <tr>\n",
       "      <th>4</th>\n",
       "      <td>0.449748</td>\n",
       "      <td>0.999872</td>\n",
       "      <td>0.155577</td>\n",
       "      <td>0.620425</td>\n",
       "    </tr>\n",
       "    <tr>\n",
       "      <th>...</th>\n",
       "      <td>...</td>\n",
       "      <td>...</td>\n",
       "      <td>...</td>\n",
       "      <td>...</td>\n",
       "    </tr>\n",
       "    <tr>\n",
       "      <th>17276</th>\n",
       "      <td>1.000000</td>\n",
       "      <td>0.000510</td>\n",
       "      <td>0.976791</td>\n",
       "      <td>0.001020</td>\n",
       "    </tr>\n",
       "    <tr>\n",
       "      <th>17277</th>\n",
       "      <td>1.000000</td>\n",
       "      <td>0.000383</td>\n",
       "      <td>0.977144</td>\n",
       "      <td>0.000765</td>\n",
       "    </tr>\n",
       "    <tr>\n",
       "      <th>17278</th>\n",
       "      <td>1.000000</td>\n",
       "      <td>0.000255</td>\n",
       "      <td>0.977213</td>\n",
       "      <td>0.000510</td>\n",
       "    </tr>\n",
       "    <tr>\n",
       "      <th>17279</th>\n",
       "      <td>1.000000</td>\n",
       "      <td>0.000128</td>\n",
       "      <td>0.978738</td>\n",
       "      <td>0.000255</td>\n",
       "    </tr>\n",
       "    <tr>\n",
       "      <th>17280</th>\n",
       "      <td>1.000000</td>\n",
       "      <td>0.000000</td>\n",
       "      <td>NaN</td>\n",
       "      <td>0.000000</td>\n",
       "    </tr>\n",
       "  </tbody>\n",
       "</table>\n",
       "<p>17281 rows × 4 columns</p>\n",
       "</div>"
      ],
      "text/plain": [
       "       precision    recall  threshold  F1 Score\n",
       "0       0.449702  1.000000   0.155372  0.620406\n",
       "1       0.449670  0.999872   0.155387  0.620351\n",
       "2       0.449696  0.999872   0.155421  0.620376\n",
       "3       0.449722  0.999872   0.155487  0.620400\n",
       "4       0.449748  0.999872   0.155577  0.620425\n",
       "...          ...       ...        ...       ...\n",
       "17276   1.000000  0.000510   0.976791  0.001020\n",
       "17277   1.000000  0.000383   0.977144  0.000765\n",
       "17278   1.000000  0.000255   0.977213  0.000510\n",
       "17279   1.000000  0.000128   0.978738  0.000255\n",
       "17280   1.000000  0.000000        NaN  0.000000\n",
       "\n",
       "[17281 rows x 4 columns]"
      ]
     },
     "execution_count": 14,
     "metadata": {},
     "output_type": "execute_result"
    }
   ],
   "source": [
    "# Table of Metrics for train set\n",
    "\n",
    "PR_curve_df = pd.DataFrame(precision_recall_curve(y_train, rand_search_rf.predict_proba(X_train)[:,1],), index=[\"precision\",\"recall\",\"threshold\"]).T\n",
    "PR_curve_df['F1 Score'] =  2 * (PR_curve_df['precision'] * PR_curve_df['recall'])/(PR_curve_df['precision'] + PR_curve_df['recall'])\n",
    "PR_curve_df"
   ]
  },
  {
   "cell_type": "code",
   "execution_count": 15,
   "id": "860e6274-5375-44bf-9a69-59093a06b57f",
   "metadata": {},
   "outputs": [
    {
     "name": "stdout",
     "output_type": "stream",
     "text": [
      "Average precision of Random Forest Classifier: 0.665\n"
     ]
    }
   ],
   "source": [
    "# Average precision score for test set\n",
    "\n",
    "ap_forest = average_precision_score(y_test, pipe_forest.predict_proba(X_test)[:, 1])\n",
    "print(\"Average precision of Random Forest Classifier: {:.3f}\".format(ap_forest))"
   ]
  },
  {
   "cell_type": "code",
   "execution_count": 16,
   "id": "54e616f5-78e2-4c2f-9d57-22d607858ccb",
   "metadata": {},
   "outputs": [
    {
     "data": {
      "text/html": [
       "<div>\n",
       "<style scoped>\n",
       "    .dataframe tbody tr th:only-of-type {\n",
       "        vertical-align: middle;\n",
       "    }\n",
       "\n",
       "    .dataframe tbody tr th {\n",
       "        vertical-align: top;\n",
       "    }\n",
       "\n",
       "    .dataframe thead th {\n",
       "        text-align: right;\n",
       "    }\n",
       "</style>\n",
       "<table border=\"1\" class=\"dataframe\">\n",
       "  <thead>\n",
       "    <tr style=\"text-align: right;\">\n",
       "      <th></th>\n",
       "      <th>precision</th>\n",
       "      <th>recall</th>\n",
       "      <th>threshold</th>\n",
       "      <th>F1 Score</th>\n",
       "    </tr>\n",
       "  </thead>\n",
       "  <tbody>\n",
       "    <tr>\n",
       "      <th>7743</th>\n",
       "      <td>0.71069</td>\n",
       "      <td>0.875016</td>\n",
       "      <td>0.583655</td>\n",
       "      <td>0.784338</td>\n",
       "    </tr>\n",
       "  </tbody>\n",
       "</table>\n",
       "</div>"
      ],
      "text/plain": [
       "      precision    recall  threshold  F1 Score\n",
       "7743    0.71069  0.875016   0.583655  0.784338"
      ]
     },
     "execution_count": 16,
     "metadata": {},
     "output_type": "execute_result"
    }
   ],
   "source": [
    "# Threshold to get best F1 score\n",
    "max_f1_df = PR_curve_df.iloc[PR_curve_df[\"F1 Score\"].idxmax()].to_frame().T\n",
    "best_thres = max_f1_df['threshold'].iloc[0]\n",
    "max_f1_df"
   ]
  },
  {
   "cell_type": "code",
   "execution_count": 17,
   "id": "86c2452f-e016-40d5-a771-e4a5c8a9a4f2",
   "metadata": {},
   "outputs": [
    {
     "data": {
      "application/vnd.vegalite.v4+json": {
       "$schema": "https://vega.github.io/schema/vega-lite/v4.8.1.json",
       "config": {
        "view": {
         "continuousHeight": 300,
         "continuousWidth": 400
        }
       },
       "layer": [
        {
         "data": {
          "url": "http://localhost:20055/dd9dedbd977dab2828cf4fea8aa679a7.json"
         },
         "encoding": {
          "color": {
           "field": "F1 Score",
           "type": "quantitative"
          },
          "x": {
           "field": "recall",
           "type": "quantitative"
          },
          "y": {
           "field": "precision",
           "type": "quantitative"
          }
         },
         "mark": "circle"
        },
        {
         "data": {
          "url": "http://localhost:20055/d99f4bad1846564e3f0fd9ea0a4fa79d.json"
         },
         "encoding": {
          "x": {
           "field": "recall",
           "type": "quantitative"
          },
          "y": {
           "field": "precision",
           "type": "quantitative"
          }
         },
         "mark": {
          "color": "red",
          "opacity": 1,
          "size": 100,
          "type": "circle"
         },
         "title": "PR curve with best threshold"
        },
        {
         "data": {
          "url": "http://localhost:20055/d99f4bad1846564e3f0fd9ea0a4fa79d.json"
         },
         "encoding": {
          "text": {
           "field": "threshold",
           "format": ".2f",
           "type": "quantitative"
          },
          "x": {
           "field": "recall",
           "type": "quantitative"
          },
          "y": {
           "field": "precision",
           "type": "quantitative"
          }
         },
         "mark": {
          "align": "left",
          "baseline": "middle",
          "dx": 15,
          "type": "text"
         },
         "title": "PR curve with best threshold"
        }
       ]
      },
      "image/png": "[encoded data removed]",
      "text/plain": [
       "<VegaLite 4 object>\n",
       "\n",
       "If you see this message, it means the renderer has not been properly enabled\n",
       "for the frontend that you are using. For more information, see\n",
       "https://altair-viz.github.io/user_guide/troubleshooting.html\n"
      ]
     },
     "execution_count": 17,
     "metadata": {},
     "output_type": "execute_result"
    }
   ],
   "source": [
    "# PR curve with best threshold\n",
    "\n",
    "PR_curve = alt.Chart(PR_curve_df).mark_circle().encode(\n",
    "    x=\"recall\",\n",
    "    y=\"precision\",\n",
    "    color=\"F1 Score\"\n",
    ")\n",
    "max_f1_point = alt.Chart(max_f1_df, \n",
    "                         title = 'PR curve with best threshold',).mark_circle(\n",
    "    color=\"red\", size=100, opacity=1).encode(\n",
    "    x=\"recall\",\n",
    "    y=\"precision\"\n",
    ")\n",
    "\n",
    "text = max_f1_point.mark_text(\n",
    "    align='left',\n",
    "    baseline='middle',\n",
    "    dx=15).encode(text= alt.Text(\"threshold\", format = \".2f\"))\n",
    "\n",
    "PR_curve_plot = PR_curve + max_f1_point + text\n",
    "PR_curve_plot"
   ]
  },
  {
   "cell_type": "code",
   "execution_count": 18,
   "id": "5a7428e0-cf81-4121-b385-d30fd5b65e67",
   "metadata": {},
   "outputs": [],
   "source": [
    "# Evaluate Model with test data set with best_thres\n",
    "y_pred_train_thres = rand_search_rf.predict_proba(X_train)[:, 1] > best_thres\n",
    "y_pred_thres = rand_search_rf.predict_proba(X_test)[:, 1] > best_thres"
   ]
  },
  {
   "cell_type": "code",
   "execution_count": 19,
   "id": "4f24345c-475b-4e8a-8aef-5fbd9ef05c36",
   "metadata": {},
   "outputs": [],
   "source": [
    "# Table of Metrics for positive class with best_thres\n",
    "model_perf_thres_df = pd.DataFrame(\n",
    "    {\n",
    "        \"Accuracy\": [accuracy_score(y_train, y_pred_train_thres), accuracy_score(y_test, y_pred_thres)],\n",
    "        \"Precision\": [precision_score(y_train, y_pred_train_thres), precision_score(y_test, y_pred_thres)],\n",
    "        \"Recall\": [recall_score(y_train, y_pred_train_thres), recall_score(y_test, y_pred_thres)],\n",
    "        \"F1 Score\": [f1_score(y_train, y_pred_train_thres), f1_score(y_test, y_pred_thres)]\n",
    "    },\n",
    "    index=[\"Train Data w/ best threshold\", \"Test Data w/ best threshold\"])"
   ]
  },
  {
   "cell_type": "code",
   "execution_count": 20,
   "id": "990f8f59-ed2e-464a-9a9b-51317ae5ca0a",
   "metadata": {},
   "outputs": [
    {
     "data": {
      "text/html": [
       "<div>\n",
       "<style scoped>\n",
       "    .dataframe tbody tr th:only-of-type {\n",
       "        vertical-align: middle;\n",
       "    }\n",
       "\n",
       "    .dataframe tbody tr th {\n",
       "        vertical-align: top;\n",
       "    }\n",
       "\n",
       "    .dataframe thead th {\n",
       "        text-align: right;\n",
       "    }\n",
       "</style>\n",
       "<table border=\"1\" class=\"dataframe\">\n",
       "  <thead>\n",
       "    <tr style=\"text-align: right;\">\n",
       "      <th></th>\n",
       "      <th>Accuracy</th>\n",
       "      <th>Precision</th>\n",
       "      <th>Recall</th>\n",
       "      <th>F1 Score</th>\n",
       "    </tr>\n",
       "  </thead>\n",
       "  <tbody>\n",
       "    <tr>\n",
       "      <th>Train Data</th>\n",
       "      <td>0.868493</td>\n",
       "      <td>0.660388</td>\n",
       "      <td>0.934447</td>\n",
       "      <td>0.773870</td>\n",
       "    </tr>\n",
       "    <tr>\n",
       "      <th>Test Data</th>\n",
       "      <td>0.810577</td>\n",
       "      <td>0.571751</td>\n",
       "      <td>0.789392</td>\n",
       "      <td>0.663172</td>\n",
       "    </tr>\n",
       "    <tr>\n",
       "      <th>Train Data w/ best threshold</th>\n",
       "      <td>0.884094</td>\n",
       "      <td>0.710660</td>\n",
       "      <td>0.874888</td>\n",
       "      <td>0.784269</td>\n",
       "    </tr>\n",
       "    <tr>\n",
       "      <th>Test Data w/ best threshold</th>\n",
       "      <td>0.827652</td>\n",
       "      <td>0.615865</td>\n",
       "      <td>0.718669</td>\n",
       "      <td>0.663307</td>\n",
       "    </tr>\n",
       "  </tbody>\n",
       "</table>\n",
       "</div>"
      ],
      "text/plain": [
       "                              Accuracy  Precision    Recall  F1 Score\n",
       "Train Data                    0.868493   0.660388  0.934447  0.773870\n",
       "Test Data                     0.810577   0.571751  0.789392  0.663172\n",
       "Train Data w/ best threshold  0.884094   0.710660  0.874888  0.784269\n",
       "Test Data w/ best threshold   0.827652   0.615865  0.718669  0.663307"
      ]
     },
     "execution_count": 20,
     "metadata": {},
     "output_type": "execute_result"
    }
   ],
   "source": [
    "model_perf_best_thres_df = pd.concat([model_perf_df, model_perf_thres_df])\n",
    "model_perf_best_thres_df"
   ]
  },
  {
   "cell_type": "code",
   "execution_count": 21,
   "id": "5f8395aa-1a87-4949-ac13-c23d4add7d92",
   "metadata": {},
   "outputs": [
    {
     "data": {
      "application/vnd.vegalite.v4+json": {
       "$schema": "https://vega.github.io/schema/vega-lite/v4.8.1.json",
       "config": {
        "view": {
         "continuousHeight": 300,
         "continuousWidth": 400
        }
       },
       "layer": [
        {
         "data": {
          "url": "http://localhost:20055/55c33d0219b0218b0e61e40e7a94982b.json"
         },
         "encoding": {
          "x": {
           "field": "fpr",
           "title": "false positive rate",
           "type": "quantitative"
          },
          "y": {
           "field": "tpr",
           "title": "true positive rate",
           "type": "quantitative"
          }
         },
         "mark": "line",
         "title": "ROC Curve"
        },
        {
         "data": {
          "url": "http://localhost:20055/a573602a1100a3a72ecafb5543e20ccb.json"
         },
         "encoding": {
          "x": {
           "field": "fpr",
           "type": "quantitative"
          },
          "y": {
           "field": "tpr",
           "type": "quantitative"
          }
         },
         "mark": {
          "color": "red",
          "opacity": 1,
          "size": 100,
          "type": "circle"
         }
        },
        {
         "data": {
          "url": "http://localhost:20055/a573602a1100a3a72ecafb5543e20ccb.json"
         },
         "encoding": {
          "text": {
           "field": "thresholds",
           "format": ".2f",
           "type": "quantitative"
          },
          "x": {
           "field": "fpr",
           "type": "quantitative"
          },
          "y": {
           "field": "tpr",
           "type": "quantitative"
          }
         },
         "mark": {
          "align": "left",
          "baseline": "middle",
          "dx": 15,
          "type": "text"
         }
        }
       ]
      },
      "image/png": "[encoded data removed]",
      "text/plain": [
       "<VegaLite 4 object>\n",
       "\n",
       "If you see this message, it means the renderer has not been properly enabled\n",
       "for the frontend that you are using. For more information, see\n",
       "https://altair-viz.github.io/user_guide/troubleshooting.html\n"
      ]
     },
     "execution_count": 21,
     "metadata": {},
     "output_type": "execute_result"
    }
   ],
   "source": [
    "# # ROC Curve\n",
    "\n",
    "fpr, tpr, thresholds = roc_curve(y_test, rand_search_rf.predict_proba(X_test)[:, 1])\n",
    "\n",
    "roc_df = pd.DataFrame()\n",
    "roc_df['fpr'] = fpr\n",
    "roc_df['tpr'] = tpr\n",
    "roc_df['thresholds'] = thresholds\n",
    "\n",
    "pt_roc_idx = (roc_df['thresholds'] - best_thres).abs().argmin()\n",
    "\n",
    "roc_curves = alt.Chart(roc_df, title = \"ROC Curve\").mark_line().encode(\n",
    "        alt.X('fpr', title=\"false positive rate\"),\n",
    "        alt.Y('tpr', title=\"true positive rate\"))\n",
    "\n",
    "roc_max_f1_point = alt.Chart(pd.DataFrame(roc_df.iloc[pt_roc_idx]).T, \n",
    "                         ).mark_circle(\n",
    "    color=\"red\", size=100, opacity=1).encode(\n",
    "    x=\"fpr\",\n",
    "    y=\"tpr\"\n",
    ")\n",
    "\n",
    "roc_text = roc_max_f1_point.mark_text(\n",
    "    align='left',\n",
    "    baseline='middle',\n",
    "    dx=15).encode(text= alt.Text(\"thresholds:Q\", format = \".2f\"))\n",
    "\n",
    "roc_curve_plot = roc_curves + roc_max_f1_point + roc_text\n",
    "roc_curve_plot"
   ]
  },
  {
   "cell_type": "code",
   "execution_count": 22,
   "id": "e5fcd5e3-2b07-41c4-8e05-9674f04f4425",
   "metadata": {},
   "outputs": [
    {
     "data": {
      "text/html": [
       "<div>\n",
       "<style scoped>\n",
       "    .dataframe tbody tr th:only-of-type {\n",
       "        vertical-align: middle;\n",
       "    }\n",
       "\n",
       "    .dataframe tbody tr th {\n",
       "        vertical-align: top;\n",
       "    }\n",
       "\n",
       "    .dataframe thead th {\n",
       "        text-align: right;\n",
       "    }\n",
       "</style>\n",
       "<table border=\"1\" class=\"dataframe\">\n",
       "  <thead>\n",
       "    <tr style=\"text-align: right;\">\n",
       "      <th></th>\n",
       "      <th>Test Data Metrics</th>\n",
       "    </tr>\n",
       "  </thead>\n",
       "  <tbody>\n",
       "    <tr>\n",
       "      <th>Accuracy</th>\n",
       "      <td>0.827652</td>\n",
       "    </tr>\n",
       "    <tr>\n",
       "      <th>Precision</th>\n",
       "      <td>0.615865</td>\n",
       "    </tr>\n",
       "    <tr>\n",
       "      <th>Recall</th>\n",
       "      <td>0.718669</td>\n",
       "    </tr>\n",
       "    <tr>\n",
       "      <th>F1 Score</th>\n",
       "      <td>0.663307</td>\n",
       "    </tr>\n",
       "    <tr>\n",
       "      <th>Average Precision Score</th>\n",
       "      <td>0.709844</td>\n",
       "    </tr>\n",
       "    <tr>\n",
       "      <th>AUC Score</th>\n",
       "      <td>0.890969</td>\n",
       "    </tr>\n",
       "  </tbody>\n",
       "</table>\n",
       "</div>"
      ],
      "text/plain": [
       "                         Test Data Metrics\n",
       "Accuracy                          0.827652\n",
       "Precision                         0.615865\n",
       "Recall                            0.718669\n",
       "F1 Score                          0.663307\n",
       "Average Precision Score           0.709844\n",
       "AUC Score                         0.890969"
      ]
     },
     "execution_count": 22,
     "metadata": {},
     "output_type": "execute_result"
    }
   ],
   "source": [
    "# ROC_AUC and AP score\n",
    "\n",
    "ap_forest = average_precision_score(y_test, rand_search_rf.predict_proba(X_test)[:, 1])\n",
    "roc_forest = roc_auc_score(y_test, rand_search_rf.predict_proba(X_test)[:, 1])\n",
    "\n",
    "test_model_perf_df = pd.DataFrame({\n",
    "    \"Accuracy\" : model_perf_thres_df.loc[\"Test Data w/ best threshold\"][\"Accuracy\"],\n",
    "    \"Precision\" : model_perf_thres_df.loc[\"Test Data w/ best threshold\"][\"Precision\"],\n",
    "    \"Recall\" : model_perf_thres_df.loc[\"Test Data w/ best threshold\"][\"Recall\"],\n",
    "    \"F1 Score\" : model_perf_thres_df.loc[\"Test Data w/ best threshold\"][\"F1 Score\"],\n",
    "    \"Average Precision Score\" : ap_forest,\n",
    "    \"AUC Score\" : roc_forest},\n",
    "    index = [\"Test Data Metrics\"]).T\n",
    "test_model_perf_df"
   ]
  },
  {
   "cell_type": "code",
   "execution_count": null,
   "id": "cdea0b3e-a00b-4ed0-beaa-5bcbafa3ac40",
   "metadata": {},
   "outputs": [],
   "source": []
  }
 ],
 "metadata": {
  "kernelspec": {
   "display_name": "Python [conda env:census-income]",
   "language": "python",
   "name": "conda-env-census-income-py"
  },
  "language_info": {
   "codemirror_mode": {
    "name": "ipython",
    "version": 3
   },
   "file_extension": ".py",
   "mimetype": "text/x-python",
   "name": "python",
   "nbconvert_exporter": "python",
   "pygments_lexer": "ipython3",
   "version": "3.9.7"
  }
 },
 "nbformat": 4,
 "nbformat_minor": 5
}
