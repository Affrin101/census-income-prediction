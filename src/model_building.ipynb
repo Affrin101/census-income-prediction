{
 "cells": [
  {
   "cell_type": "code",
   "execution_count": 1,
   "id": "fb252e3f-b897-44f1-8a0e-290938866687",
   "metadata": {},
   "outputs": [],
   "source": [
    "import altair as alt\n",
    "import numpy as np\n",
    "import pandas as pd\n",
    "import matplotlib.pyplot as plt \n",
    "from scipy.stats import loguniform\n",
    "import sklearn\n",
    "from sklearn.compose import make_column_transformer\n",
    "from sklearn.dummy import DummyClassifier\n",
    "from sklearn.ensemble import RandomForestClassifier\n",
    "from sklearn.metrics import (\n",
    "    accuracy_score, recall_score, precision_score,\n",
    "    f1_score, precision_recall_curve, average_precision_score,\n",
    "    classification_report, confusion_matrix,\n",
    "    PrecisionRecallDisplay, roc_curve, roc_auc_score\n",
    ")\n",
    "from sklearn.model_selection import (\n",
    "    cross_validate, RandomizedSearchCV\n",
    ")\n",
    "from sklearn.pipeline import make_pipeline\n",
    "from sklearn.preprocessing import (\n",
    "    StandardScaler, OneHotEncoder\n",
    ")\n",
    "from sklearn.model_selection import cross_val_predict\n",
    "import shap"
   ]
  },
  {
   "cell_type": "code",
   "execution_count": 2,
   "id": "95577bb7-9658-491e-a609-62c2641a392a",
   "metadata": {},
   "outputs": [
    {
     "data": {
      "text/plain": [
       "RendererRegistry.enable('mimetype')"
      ]
     },
     "execution_count": 2,
     "metadata": {},
     "output_type": "execute_result"
    }
   ],
   "source": [
    "alt.data_transformers.enable('data_server')\n",
    "alt.renderers.enable('mimetype')"
   ]
  },
  {
   "cell_type": "code",
   "execution_count": 4,
   "id": "9cb86521-8585-4173-9e02-d0ebb2dd4ff1",
   "metadata": {},
   "outputs": [],
   "source": [
    "# Read Data\n",
    "train_df = pd.read_csv(\"../data/clean/clean_train.csv\")\n",
    "test_df = pd.read_csv(\"../data/clean/clean_test.csv\")\n",
    "\n",
    "\n",
    "# Transform native_country into binary\n",
    "train_df['native_country'] = train_df['native_country'] == 'United-States'\n",
    "test_df['native_country'] = test_df['native_country'] == 'United-States'\n",
    "\n",
    "# Set positive label to \">50K\", which is the class with smaller proportion\n",
    "train_df['income'] = train_df['income'] == '>50K'\n",
    "test_df['income'] = test_df['income'] == '>50K'"
   ]
  },
  {
   "cell_type": "code",
   "execution_count": 5,
   "id": "d4273f65-1b25-450e-8c08-ecaadeba2bf5",
   "metadata": {},
   "outputs": [],
   "source": [
    "# Split data into features & target\n",
    "X_train = train_df.drop(\"income\", axis=1)\n",
    "y_train = train_df['income']\n",
    "X_test = test_df.drop(\"income\", axis=1)\n",
    "y_test = test_df['income']"
   ]
  },
  {
   "cell_type": "code",
   "execution_count": 11,
   "id": "2ae7bbeb-1975-4ec4-8b33-efff3e365e83",
   "metadata": {},
   "outputs": [],
   "source": [
    "# Preprocessing\n",
    "numeric_feats = ['age', 'fnlwgt', 'hours_per_week']\n",
    "categorical_null_feats = ['workclass', \"occupation\"]\n",
    "categorical_nonull_feats = [\"marital_status\", \"relationship\"]\n",
    "\n",
    "binary_feats = ['sex', 'native_country']\n",
    "passthrough_feats = ['education_num']\n",
    "drop_feats = ['education', 'race', 'capital_gain', 'capital_loss']\n",
    "\n",
    "col_trans = make_column_transformer(\n",
    "    (StandardScaler(), numeric_feats),\n",
    "    (OneHotEncoder(sparse=False, handle_unknown='ignore', drop=[np.nan] * 2), categorical_null_feats),\n",
    "    (OneHotEncoder(sparse=False, handle_unknown='ignore'), categorical_nonull_feats),\n",
    "    (OneHotEncoder(drop='if_binary'), binary_feats),\n",
    "    # ('passthrough', passthrough_feats),\n",
    "    ('drop', drop_feats)\n",
    ")"
   ]
  },
  {
   "cell_type": "code",
   "execution_count": 12,
   "id": "f5735a68",
   "metadata": {},
   "outputs": [
    {
     "data": {
      "text/plain": [
       "ColumnTransformer(transformers=[('standardscaler', StandardScaler(),\n",
       "                                 ['age', 'fnlwgt', 'hours_per_week']),\n",
       "                                ('onehotencoder-1',\n",
       "                                 OneHotEncoder(drop=[nan, nan],\n",
       "                                               handle_unknown='ignore',\n",
       "                                               sparse=False),\n",
       "                                 ['workclass', 'occupation']),\n",
       "                                ('onehotencoder-2',\n",
       "                                 OneHotEncoder(handle_unknown='ignore',\n",
       "                                               sparse=False),\n",
       "                                 ['marital_status', 'relationship']),\n",
       "                                ('onehotencoder-3',\n",
       "                                 OneHotEncoder(drop='if_binary'),\n",
       "                                 ['sex', 'native_country']),\n",
       "                                ('drop', 'drop',\n",
       "                                 ['education', 'race', 'capital_gain',\n",
       "                                  'capital_loss'])])"
      ]
     },
     "execution_count": 12,
     "metadata": {},
     "output_type": "execute_result"
    }
   ],
   "source": [
    "col_trans.fit(X_train, y_train)"
   ]
  },
  {
   "cell_type": "code",
   "execution_count": 13,
   "id": "1464e0e2",
   "metadata": {},
   "outputs": [],
   "source": [
    "feature_names = (\n",
    "    numeric_feats + list(col_trans.named_transformers_['onehotencoder-1'].get_feature_names_out()) \n",
    "    + list(col_trans.named_transformers_['onehotencoder-2'].get_feature_names_out()) \n",
    "    + list(col_trans.named_transformers_['onehotencoder-3'].get_feature_names_out())\n",
    "   \n",
    ")"
   ]
  },
  {
   "cell_type": "code",
   "execution_count": 14,
   "id": "c40af367",
   "metadata": {},
   "outputs": [],
   "source": [
    "x_trans=col_trans.transform(X_train)"
   ]
  },
  {
   "cell_type": "code",
   "execution_count": 15,
   "id": "3b6ad5ed",
   "metadata": {},
   "outputs": [
    {
     "data": {
      "text/html": [
       "<div>\n",
       "<style scoped>\n",
       "    .dataframe tbody tr th:only-of-type {\n",
       "        vertical-align: middle;\n",
       "    }\n",
       "\n",
       "    .dataframe tbody tr th {\n",
       "        vertical-align: top;\n",
       "    }\n",
       "\n",
       "    .dataframe thead th {\n",
       "        text-align: right;\n",
       "    }\n",
       "</style>\n",
       "<table border=\"1\" class=\"dataframe\">\n",
       "  <thead>\n",
       "    <tr style=\"text-align: right;\">\n",
       "      <th></th>\n",
       "      <th>age</th>\n",
       "      <th>fnlwgt</th>\n",
       "      <th>hours_per_week</th>\n",
       "      <th>workclass_Federal-gov</th>\n",
       "      <th>workclass_Local-gov</th>\n",
       "      <th>workclass_Never-worked</th>\n",
       "      <th>workclass_Private</th>\n",
       "      <th>workclass_Self-emp-inc</th>\n",
       "      <th>workclass_Self-emp-not-inc</th>\n",
       "      <th>workclass_State-gov</th>\n",
       "      <th>...</th>\n",
       "      <th>marital_status_Separated</th>\n",
       "      <th>marital_status_Widowed</th>\n",
       "      <th>relationship_Husband</th>\n",
       "      <th>relationship_Not-in-family</th>\n",
       "      <th>relationship_Other-relative</th>\n",
       "      <th>relationship_Own-child</th>\n",
       "      <th>relationship_Unmarried</th>\n",
       "      <th>relationship_Wife</th>\n",
       "      <th>sex_Male</th>\n",
       "      <th>native_country_True</th>\n",
       "    </tr>\n",
       "  </thead>\n",
       "  <tbody>\n",
       "    <tr>\n",
       "      <th>0</th>\n",
       "      <td>0.030671</td>\n",
       "      <td>-1.063611</td>\n",
       "      <td>-0.035429</td>\n",
       "      <td>0.0</td>\n",
       "      <td>0.0</td>\n",
       "      <td>0.0</td>\n",
       "      <td>0.0</td>\n",
       "      <td>0.0</td>\n",
       "      <td>0.0</td>\n",
       "      <td>1.0</td>\n",
       "      <td>...</td>\n",
       "      <td>0.0</td>\n",
       "      <td>0.0</td>\n",
       "      <td>0.0</td>\n",
       "      <td>1.0</td>\n",
       "      <td>0.0</td>\n",
       "      <td>0.0</td>\n",
       "      <td>0.0</td>\n",
       "      <td>0.0</td>\n",
       "      <td>1.0</td>\n",
       "      <td>1.0</td>\n",
       "    </tr>\n",
       "    <tr>\n",
       "      <th>1</th>\n",
       "      <td>0.837109</td>\n",
       "      <td>-1.008707</td>\n",
       "      <td>-2.222153</td>\n",
       "      <td>0.0</td>\n",
       "      <td>0.0</td>\n",
       "      <td>0.0</td>\n",
       "      <td>0.0</td>\n",
       "      <td>0.0</td>\n",
       "      <td>1.0</td>\n",
       "      <td>0.0</td>\n",
       "      <td>...</td>\n",
       "      <td>0.0</td>\n",
       "      <td>0.0</td>\n",
       "      <td>1.0</td>\n",
       "      <td>0.0</td>\n",
       "      <td>0.0</td>\n",
       "      <td>0.0</td>\n",
       "      <td>0.0</td>\n",
       "      <td>0.0</td>\n",
       "      <td>1.0</td>\n",
       "      <td>1.0</td>\n",
       "    </tr>\n",
       "    <tr>\n",
       "      <th>2</th>\n",
       "      <td>-0.042642</td>\n",
       "      <td>0.245079</td>\n",
       "      <td>-0.035429</td>\n",
       "      <td>0.0</td>\n",
       "      <td>0.0</td>\n",
       "      <td>0.0</td>\n",
       "      <td>1.0</td>\n",
       "      <td>0.0</td>\n",
       "      <td>0.0</td>\n",
       "      <td>0.0</td>\n",
       "      <td>...</td>\n",
       "      <td>0.0</td>\n",
       "      <td>0.0</td>\n",
       "      <td>0.0</td>\n",
       "      <td>1.0</td>\n",
       "      <td>0.0</td>\n",
       "      <td>0.0</td>\n",
       "      <td>0.0</td>\n",
       "      <td>0.0</td>\n",
       "      <td>1.0</td>\n",
       "      <td>1.0</td>\n",
       "    </tr>\n",
       "    <tr>\n",
       "      <th>3</th>\n",
       "      <td>1.057047</td>\n",
       "      <td>0.425801</td>\n",
       "      <td>-0.035429</td>\n",
       "      <td>0.0</td>\n",
       "      <td>0.0</td>\n",
       "      <td>0.0</td>\n",
       "      <td>1.0</td>\n",
       "      <td>0.0</td>\n",
       "      <td>0.0</td>\n",
       "      <td>0.0</td>\n",
       "      <td>...</td>\n",
       "      <td>0.0</td>\n",
       "      <td>0.0</td>\n",
       "      <td>1.0</td>\n",
       "      <td>0.0</td>\n",
       "      <td>0.0</td>\n",
       "      <td>0.0</td>\n",
       "      <td>0.0</td>\n",
       "      <td>0.0</td>\n",
       "      <td>1.0</td>\n",
       "      <td>1.0</td>\n",
       "    </tr>\n",
       "    <tr>\n",
       "      <th>4</th>\n",
       "      <td>-0.775768</td>\n",
       "      <td>1.408176</td>\n",
       "      <td>-0.035429</td>\n",
       "      <td>0.0</td>\n",
       "      <td>0.0</td>\n",
       "      <td>0.0</td>\n",
       "      <td>1.0</td>\n",
       "      <td>0.0</td>\n",
       "      <td>0.0</td>\n",
       "      <td>0.0</td>\n",
       "      <td>...</td>\n",
       "      <td>0.0</td>\n",
       "      <td>0.0</td>\n",
       "      <td>0.0</td>\n",
       "      <td>0.0</td>\n",
       "      <td>0.0</td>\n",
       "      <td>0.0</td>\n",
       "      <td>0.0</td>\n",
       "      <td>1.0</td>\n",
       "      <td>0.0</td>\n",
       "      <td>0.0</td>\n",
       "    </tr>\n",
       "  </tbody>\n",
       "</table>\n",
       "<p>5 rows × 40 columns</p>\n",
       "</div>"
      ],
      "text/plain": [
       "        age    fnlwgt  hours_per_week  workclass_Federal-gov  \\\n",
       "0  0.030671 -1.063611       -0.035429                    0.0   \n",
       "1  0.837109 -1.008707       -2.222153                    0.0   \n",
       "2 -0.042642  0.245079       -0.035429                    0.0   \n",
       "3  1.057047  0.425801       -0.035429                    0.0   \n",
       "4 -0.775768  1.408176       -0.035429                    0.0   \n",
       "\n",
       "   workclass_Local-gov  workclass_Never-worked  workclass_Private  \\\n",
       "0                  0.0                     0.0                0.0   \n",
       "1                  0.0                     0.0                0.0   \n",
       "2                  0.0                     0.0                1.0   \n",
       "3                  0.0                     0.0                1.0   \n",
       "4                  0.0                     0.0                1.0   \n",
       "\n",
       "   workclass_Self-emp-inc  workclass_Self-emp-not-inc  workclass_State-gov  \\\n",
       "0                     0.0                         0.0                  1.0   \n",
       "1                     0.0                         1.0                  0.0   \n",
       "2                     0.0                         0.0                  0.0   \n",
       "3                     0.0                         0.0                  0.0   \n",
       "4                     0.0                         0.0                  0.0   \n",
       "\n",
       "   ...  marital_status_Separated  marital_status_Widowed  \\\n",
       "0  ...                       0.0                     0.0   \n",
       "1  ...                       0.0                     0.0   \n",
       "2  ...                       0.0                     0.0   \n",
       "3  ...                       0.0                     0.0   \n",
       "4  ...                       0.0                     0.0   \n",
       "\n",
       "   relationship_Husband  relationship_Not-in-family  \\\n",
       "0                   0.0                         1.0   \n",
       "1                   1.0                         0.0   \n",
       "2                   0.0                         1.0   \n",
       "3                   1.0                         0.0   \n",
       "4                   0.0                         0.0   \n",
       "\n",
       "   relationship_Other-relative  relationship_Own-child  \\\n",
       "0                          0.0                     0.0   \n",
       "1                          0.0                     0.0   \n",
       "2                          0.0                     0.0   \n",
       "3                          0.0                     0.0   \n",
       "4                          0.0                     0.0   \n",
       "\n",
       "   relationship_Unmarried  relationship_Wife  sex_Male  native_country_True  \n",
       "0                     0.0                0.0       1.0                  1.0  \n",
       "1                     0.0                0.0       1.0                  1.0  \n",
       "2                     0.0                0.0       1.0                  1.0  \n",
       "3                     0.0                0.0       1.0                  1.0  \n",
       "4                     0.0                1.0       0.0                  0.0  \n",
       "\n",
       "[5 rows x 40 columns]"
      ]
     },
     "execution_count": 15,
     "metadata": {},
     "output_type": "execute_result"
    }
   ],
   "source": [
    "X_train_enc = pd.DataFrame(\n",
    "    data=col_trans.transform(X_train),\n",
    "    columns=feature_names\n",
    ")\n",
    "X_train_enc.head()"
   ]
  },
  {
   "cell_type": "code",
   "execution_count": 16,
   "id": "90c7df29-35c3-45ff-a1fb-bf5891f83568",
   "metadata": {
    "tags": []
   },
   "outputs": [
    {
     "name": "stderr",
     "output_type": "stream",
     "text": [
      "Precision is ill-defined and being set to 0.0 due to no predicted samples. Use `zero_division` parameter to control this behavior.\n",
      "Precision is ill-defined and being set to 0.0 due to no predicted samples. Use `zero_division` parameter to control this behavior.\n",
      "Precision is ill-defined and being set to 0.0 due to no predicted samples. Use `zero_division` parameter to control this behavior.\n",
      "Precision is ill-defined and being set to 0.0 due to no predicted samples. Use `zero_division` parameter to control this behavior.\n",
      "Precision is ill-defined and being set to 0.0 due to no predicted samples. Use `zero_division` parameter to control this behavior.\n"
     ]
    }
   ],
   "source": [
    "# Calculate Baseline Performances\n",
    "scoring = ['accuracy', 'precision', 'recall', 'f1']\n",
    "results = {}\n",
    "pipe_dummy = make_pipeline(\n",
    "    col_trans,\n",
    "    DummyClassifier()\n",
    ")\n",
    "results['DummyClassifier'] = pd.DataFrame(cross_validate(pipe_dummy, X_train, y_train, scoring=scoring)).mean()\n",
    "\n",
    "# Calculate Baseline Perfromance for Random Forest Classifier\n",
    "pipe_forest = make_pipeline(\n",
    "    col_trans,\n",
    "    RandomForestClassifier(random_state=522)\n",
    ")\n",
    "results['RandomForest_default'] = pd.DataFrame(cross_validate(pipe_forest, X_train, y_train, scoring=scoring)).mean()"
   ]
  },
  {
   "cell_type": "code",
   "execution_count": 17,
   "id": "e450adc2-2327-4c06-9ae5-0f2625676bde",
   "metadata": {
    "tags": []
   },
   "outputs": [
    {
     "data": {
      "text/html": [
       "<div>\n",
       "<style scoped>\n",
       "    .dataframe tbody tr th:only-of-type {\n",
       "        vertical-align: middle;\n",
       "    }\n",
       "\n",
       "    .dataframe tbody tr th {\n",
       "        vertical-align: top;\n",
       "    }\n",
       "\n",
       "    .dataframe thead th {\n",
       "        text-align: right;\n",
       "    }\n",
       "</style>\n",
       "<table border=\"1\" class=\"dataframe\">\n",
       "  <thead>\n",
       "    <tr style=\"text-align: right;\">\n",
       "      <th></th>\n",
       "      <th>DummyClassifier</th>\n",
       "      <th>RandomForest_default</th>\n",
       "    </tr>\n",
       "  </thead>\n",
       "  <tbody>\n",
       "    <tr>\n",
       "      <th>fit_time</th>\n",
       "      <td>0.041223</td>\n",
       "      <td>1.847343</td>\n",
       "    </tr>\n",
       "    <tr>\n",
       "      <th>score_time</th>\n",
       "      <td>0.015839</td>\n",
       "      <td>0.126781</td>\n",
       "    </tr>\n",
       "    <tr>\n",
       "      <th>test_accuracy</th>\n",
       "      <td>0.759190</td>\n",
       "      <td>0.812506</td>\n",
       "    </tr>\n",
       "    <tr>\n",
       "      <th>test_precision</th>\n",
       "      <td>0.000000</td>\n",
       "      <td>0.628742</td>\n",
       "    </tr>\n",
       "    <tr>\n",
       "      <th>test_recall</th>\n",
       "      <td>0.000000</td>\n",
       "      <td>0.540621</td>\n",
       "    </tr>\n",
       "    <tr>\n",
       "      <th>test_f1</th>\n",
       "      <td>0.000000</td>\n",
       "      <td>0.581318</td>\n",
       "    </tr>\n",
       "  </tbody>\n",
       "</table>\n",
       "</div>"
      ],
      "text/plain": [
       "                DummyClassifier  RandomForest_default\n",
       "fit_time               0.041223              1.847343\n",
       "score_time             0.015839              0.126781\n",
       "test_accuracy          0.759190              0.812506\n",
       "test_precision         0.000000              0.628742\n",
       "test_recall            0.000000              0.540621\n",
       "test_f1                0.000000              0.581318"
      ]
     },
     "execution_count": 17,
     "metadata": {},
     "output_type": "execute_result"
    }
   ],
   "source": [
    "pd.DataFrame(results)"
   ]
  },
  {
   "cell_type": "code",
   "execution_count": 18,
   "id": "f3c3ca66",
   "metadata": {},
   "outputs": [
    {
     "data": {
      "text/plain": [
       "Pipeline(steps=[('columntransformer',\n",
       "                 ColumnTransformer(transformers=[('standardscaler',\n",
       "                                                  StandardScaler(),\n",
       "                                                  ['age', 'fnlwgt',\n",
       "                                                   'hours_per_week']),\n",
       "                                                 ('onehotencoder-1',\n",
       "                                                  OneHotEncoder(drop=[nan, nan],\n",
       "                                                                handle_unknown='ignore',\n",
       "                                                                sparse=False),\n",
       "                                                  ['workclass', 'occupation']),\n",
       "                                                 ('onehotencoder-2',\n",
       "                                                  OneHotEncoder(handle_unknown='ignore',\n",
       "                                                                sparse=False),\n",
       "                                                  ['marital_status',\n",
       "                                                   'relationship']),\n",
       "                                                 ('onehotencoder-3',\n",
       "                                                  OneHotEncoder(drop='if_binary'),\n",
       "                                                  ['sex', 'native_country']),\n",
       "                                                 ('drop', 'drop',\n",
       "                                                  ['education', 'race',\n",
       "                                                   'capital_gain',\n",
       "                                                   'capital_loss'])])),\n",
       "                ('randomforestclassifier',\n",
       "                 RandomForestClassifier(random_state=522))])"
      ]
     },
     "execution_count": 18,
     "metadata": {},
     "output_type": "execute_result"
    }
   ],
   "source": [
    "pipe_forest.fit(X_train, y_train)"
   ]
  },
  {
   "cell_type": "code",
   "execution_count": 19,
   "id": "b9d3be68",
   "metadata": {},
   "outputs": [],
   "source": [
    "rf_explainer = shap.TreeExplainer(pipe_forest.named_steps[\"randomforestclassifier\"])\n",
    "train_rf_shap_values = rf_explainer.shap_values(X_train_enc[:500])"
   ]
  },
  {
   "cell_type": "code",
   "execution_count": 20,
   "id": "94869cde",
   "metadata": {},
   "outputs": [
    {
     "data": {
      "text/html": [
       "<div>\n",
       "<style scoped>\n",
       "    .dataframe tbody tr th:only-of-type {\n",
       "        vertical-align: middle;\n",
       "    }\n",
       "\n",
       "    .dataframe tbody tr th {\n",
       "        vertical-align: top;\n",
       "    }\n",
       "\n",
       "    .dataframe thead th {\n",
       "        text-align: right;\n",
       "    }\n",
       "</style>\n",
       "<table border=\"1\" class=\"dataframe\">\n",
       "  <thead>\n",
       "    <tr style=\"text-align: right;\">\n",
       "      <th></th>\n",
       "      <th>SHAP</th>\n",
       "    </tr>\n",
       "  </thead>\n",
       "  <tbody>\n",
       "    <tr>\n",
       "      <th>marital_status_Married-civ-spouse</th>\n",
       "      <td>0.076747</td>\n",
       "    </tr>\n",
       "    <tr>\n",
       "      <th>age</th>\n",
       "      <td>0.059105</td>\n",
       "    </tr>\n",
       "    <tr>\n",
       "      <th>hours_per_week</th>\n",
       "      <td>0.045896</td>\n",
       "    </tr>\n",
       "    <tr>\n",
       "      <th>occupation_Prof-specialty</th>\n",
       "      <td>0.037534</td>\n",
       "    </tr>\n",
       "    <tr>\n",
       "      <th>relationship_Husband</th>\n",
       "      <td>0.036701</td>\n",
       "    </tr>\n",
       "    <tr>\n",
       "      <th>occupation_Exec-managerial</th>\n",
       "      <td>0.035265</td>\n",
       "    </tr>\n",
       "    <tr>\n",
       "      <th>fnlwgt</th>\n",
       "      <td>0.024138</td>\n",
       "    </tr>\n",
       "    <tr>\n",
       "      <th>marital_status_Never-married</th>\n",
       "      <td>0.020038</td>\n",
       "    </tr>\n",
       "    <tr>\n",
       "      <th>sex_Male</th>\n",
       "      <td>0.015888</td>\n",
       "    </tr>\n",
       "    <tr>\n",
       "      <th>relationship_Wife</th>\n",
       "      <td>0.012773</td>\n",
       "    </tr>\n",
       "  </tbody>\n",
       "</table>\n",
       "</div>"
      ],
      "text/plain": [
       "                                       SHAP\n",
       "marital_status_Married-civ-spouse  0.076747\n",
       "age                                0.059105\n",
       "hours_per_week                     0.045896\n",
       "occupation_Prof-specialty          0.037534\n",
       "relationship_Husband               0.036701\n",
       "occupation_Exec-managerial         0.035265\n",
       "fnlwgt                             0.024138\n",
       "marital_status_Never-married       0.020038\n",
       "sex_Male                           0.015888\n",
       "relationship_Wife                  0.012773"
      ]
     },
     "execution_count": 20,
     "metadata": {},
     "output_type": "execute_result"
    }
   ],
   "source": [
    "values = np.abs(train_rf_shap_values[1]).mean(0) # mean of shapely values in each column \n",
    "pd.DataFrame(data=values, index=feature_names, columns=[\"SHAP\"]).sort_values(\n",
    "    by=\"SHAP\", ascending=False\n",
    ")[:10]"
   ]
  },
  {
   "cell_type": "code",
   "execution_count": 21,
   "id": "29d2f509",
   "metadata": {},
   "outputs": [
    {
     "data": {
      "image/png": "[encoded data removed]",
      "text/plain": [
       "<Figure size 576x684 with 1 Axes>"
      ]
     },
     "metadata": {
      "needs_background": "light"
     },
     "output_type": "display_data"
    }
   ],
   "source": [
    "shap.summary_plot(train_rf_shap_values[1], X_train_enc, plot_type=\"bar\")"
   ]
  },
  {
   "cell_type": "code",
   "execution_count": 22,
   "id": "46602df9",
   "metadata": {},
   "outputs": [
    {
     "data": {
      "image/png": "[encoded data removed]",
      "text/plain": [
       "<Figure size 576x684 with 2 Axes>"
      ]
     },
     "metadata": {
      "needs_background": "light"
     },
     "output_type": "display_data"
    }
   ],
   "source": [
    "shap.summary_plot(train_rf_shap_values[1], X_train_enc[:500])"
   ]
  },
  {
   "cell_type": "code",
   "execution_count": 23,
   "id": "64a3c58b-5d40-4020-b125-22f4e85e14d3",
   "metadata": {},
   "outputs": [],
   "source": [
    "param_dist = {\n",
    "    \"randomforestclassifier__class_weight\": [None, \"balanced\"],\n",
    "    \"randomforestclassifier__n_estimators\": [10, 20, 50, 100, 200, 500],\n",
    "    \"randomforestclassifier__max_depth\": np.arange(10, 20, 2)\n",
    "}\n",
    "rand_search_rf = RandomizedSearchCV(pipe_forest, param_dist, n_iter=20, \n",
    "                                    random_state=952, scoring=scoring, refit=\"f1\")\n",
    "\n",
    "rand_search_rf.fit(X_train, y_train);"
   ]
  },
  {
   "cell_type": "code",
   "execution_count": 24,
   "id": "7311f1f4-b017-4ef4-baa4-eff7caab7cf5",
   "metadata": {},
   "outputs": [
    {
     "data": {
      "text/html": [
       "<div>\n",
       "<style scoped>\n",
       "    .dataframe tbody tr th:only-of-type {\n",
       "        vertical-align: middle;\n",
       "    }\n",
       "\n",
       "    .dataframe tbody tr th {\n",
       "        vertical-align: top;\n",
       "    }\n",
       "\n",
       "    .dataframe thead th {\n",
       "        text-align: right;\n",
       "    }\n",
       "</style>\n",
       "<table border=\"1\" class=\"dataframe\">\n",
       "  <thead>\n",
       "    <tr style=\"text-align: right;\">\n",
       "      <th></th>\n",
       "      <th>param_randomforestclassifier__n_estimators</th>\n",
       "      <th>param_randomforestclassifier__max_depth</th>\n",
       "      <th>param_randomforestclassifier__class_weight</th>\n",
       "      <th>mean_test_accuracy</th>\n",
       "      <th>mean_test_precision</th>\n",
       "      <th>mean_test_recall</th>\n",
       "      <th>mean_test_f1</th>\n",
       "    </tr>\n",
       "  </thead>\n",
       "  <tbody>\n",
       "    <tr>\n",
       "      <th>10</th>\n",
       "      <td>200</td>\n",
       "      <td>16</td>\n",
       "      <td>balanced</td>\n",
       "      <td>0.796075</td>\n",
       "      <td>0.554746</td>\n",
       "      <td>0.776558</td>\n",
       "      <td>0.647130</td>\n",
       "    </tr>\n",
       "    <tr>\n",
       "      <th>16</th>\n",
       "      <td>100</td>\n",
       "      <td>18</td>\n",
       "      <td>balanced</td>\n",
       "      <td>0.801327</td>\n",
       "      <td>0.566443</td>\n",
       "      <td>0.745822</td>\n",
       "      <td>0.643855</td>\n",
       "    </tr>\n",
       "    <tr>\n",
       "      <th>18</th>\n",
       "      <td>20</td>\n",
       "      <td>16</td>\n",
       "      <td>balanced</td>\n",
       "      <td>0.788489</td>\n",
       "      <td>0.542265</td>\n",
       "      <td>0.781278</td>\n",
       "      <td>0.640177</td>\n",
       "    </tr>\n",
       "    <tr>\n",
       "      <th>7</th>\n",
       "      <td>10</td>\n",
       "      <td>18</td>\n",
       "      <td>balanced</td>\n",
       "      <td>0.792820</td>\n",
       "      <td>0.550996</td>\n",
       "      <td>0.754876</td>\n",
       "      <td>0.636973</td>\n",
       "    </tr>\n",
       "    <tr>\n",
       "      <th>3</th>\n",
       "      <td>200</td>\n",
       "      <td>12</td>\n",
       "      <td>balanced</td>\n",
       "      <td>0.770400</td>\n",
       "      <td>0.514475</td>\n",
       "      <td>0.828082</td>\n",
       "      <td>0.634640</td>\n",
       "    </tr>\n",
       "    <tr>\n",
       "      <th>6</th>\n",
       "      <td>20</td>\n",
       "      <td>12</td>\n",
       "      <td>balanced</td>\n",
       "      <td>0.768865</td>\n",
       "      <td>0.512401</td>\n",
       "      <td>0.831014</td>\n",
       "      <td>0.633879</td>\n",
       "    </tr>\n",
       "    <tr>\n",
       "      <th>11</th>\n",
       "      <td>50</td>\n",
       "      <td>12</td>\n",
       "      <td>balanced</td>\n",
       "      <td>0.768435</td>\n",
       "      <td>0.511818</td>\n",
       "      <td>0.831270</td>\n",
       "      <td>0.633528</td>\n",
       "    </tr>\n",
       "    <tr>\n",
       "      <th>14</th>\n",
       "      <td>50</td>\n",
       "      <td>10</td>\n",
       "      <td>balanced</td>\n",
       "      <td>0.754062</td>\n",
       "      <td>0.493813</td>\n",
       "      <td>0.848488</td>\n",
       "      <td>0.624287</td>\n",
       "    </tr>\n",
       "    <tr>\n",
       "      <th>15</th>\n",
       "      <td>500</td>\n",
       "      <td>18</td>\n",
       "      <td>None</td>\n",
       "      <td>0.829950</td>\n",
       "      <td>0.686959</td>\n",
       "      <td>0.540109</td>\n",
       "      <td>0.604704</td>\n",
       "    </tr>\n",
       "    <tr>\n",
       "      <th>1</th>\n",
       "      <td>50</td>\n",
       "      <td>18</td>\n",
       "      <td>None</td>\n",
       "      <td>0.828261</td>\n",
       "      <td>0.680775</td>\n",
       "      <td>0.540493</td>\n",
       "      <td>0.602530</td>\n",
       "    </tr>\n",
       "    <tr>\n",
       "      <th>0</th>\n",
       "      <td>50</td>\n",
       "      <td>16</td>\n",
       "      <td>None</td>\n",
       "      <td>0.829551</td>\n",
       "      <td>0.688967</td>\n",
       "      <td>0.533095</td>\n",
       "      <td>0.601004</td>\n",
       "    </tr>\n",
       "    <tr>\n",
       "      <th>12</th>\n",
       "      <td>100</td>\n",
       "      <td>14</td>\n",
       "      <td>None</td>\n",
       "      <td>0.830319</td>\n",
       "      <td>0.702289</td>\n",
       "      <td>0.513072</td>\n",
       "      <td>0.592867</td>\n",
       "    </tr>\n",
       "    <tr>\n",
       "      <th>5</th>\n",
       "      <td>50</td>\n",
       "      <td>14</td>\n",
       "      <td>None</td>\n",
       "      <td>0.829182</td>\n",
       "      <td>0.699819</td>\n",
       "      <td>0.509246</td>\n",
       "      <td>0.589416</td>\n",
       "    </tr>\n",
       "    <tr>\n",
       "      <th>19</th>\n",
       "      <td>10</td>\n",
       "      <td>16</td>\n",
       "      <td>None</td>\n",
       "      <td>0.825036</td>\n",
       "      <td>0.677984</td>\n",
       "      <td>0.521106</td>\n",
       "      <td>0.589179</td>\n",
       "    </tr>\n",
       "    <tr>\n",
       "      <th>2</th>\n",
       "      <td>10</td>\n",
       "      <td>14</td>\n",
       "      <td>None</td>\n",
       "      <td>0.828230</td>\n",
       "      <td>0.695835</td>\n",
       "      <td>0.509372</td>\n",
       "      <td>0.588095</td>\n",
       "    </tr>\n",
       "    <tr>\n",
       "      <th>4</th>\n",
       "      <td>20</td>\n",
       "      <td>14</td>\n",
       "      <td>None</td>\n",
       "      <td>0.828998</td>\n",
       "      <td>0.700385</td>\n",
       "      <td>0.506695</td>\n",
       "      <td>0.587920</td>\n",
       "    </tr>\n",
       "    <tr>\n",
       "      <th>9</th>\n",
       "      <td>500</td>\n",
       "      <td>12</td>\n",
       "      <td>None</td>\n",
       "      <td>0.828322</td>\n",
       "      <td>0.711383</td>\n",
       "      <td>0.483484</td>\n",
       "      <td>0.575585</td>\n",
       "    </tr>\n",
       "    <tr>\n",
       "      <th>17</th>\n",
       "      <td>10</td>\n",
       "      <td>12</td>\n",
       "      <td>None</td>\n",
       "      <td>0.825128</td>\n",
       "      <td>0.697292</td>\n",
       "      <td>0.484378</td>\n",
       "      <td>0.571503</td>\n",
       "    </tr>\n",
       "    <tr>\n",
       "      <th>8</th>\n",
       "      <td>100</td>\n",
       "      <td>10</td>\n",
       "      <td>None</td>\n",
       "      <td>0.827524</td>\n",
       "      <td>0.718316</td>\n",
       "      <td>0.467542</td>\n",
       "      <td>0.566238</td>\n",
       "    </tr>\n",
       "    <tr>\n",
       "      <th>13</th>\n",
       "      <td>20</td>\n",
       "      <td>10</td>\n",
       "      <td>None</td>\n",
       "      <td>0.826510</td>\n",
       "      <td>0.718349</td>\n",
       "      <td>0.460654</td>\n",
       "      <td>0.560987</td>\n",
       "    </tr>\n",
       "  </tbody>\n",
       "</table>\n",
       "</div>"
      ],
      "text/plain": [
       "   param_randomforestclassifier__n_estimators  \\\n",
       "10                                        200   \n",
       "16                                        100   \n",
       "18                                         20   \n",
       "7                                          10   \n",
       "3                                         200   \n",
       "6                                          20   \n",
       "11                                         50   \n",
       "14                                         50   \n",
       "15                                        500   \n",
       "1                                          50   \n",
       "0                                          50   \n",
       "12                                        100   \n",
       "5                                          50   \n",
       "19                                         10   \n",
       "2                                          10   \n",
       "4                                          20   \n",
       "9                                         500   \n",
       "17                                         10   \n",
       "8                                         100   \n",
       "13                                         20   \n",
       "\n",
       "   param_randomforestclassifier__max_depth  \\\n",
       "10                                      16   \n",
       "16                                      18   \n",
       "18                                      16   \n",
       "7                                       18   \n",
       "3                                       12   \n",
       "6                                       12   \n",
       "11                                      12   \n",
       "14                                      10   \n",
       "15                                      18   \n",
       "1                                       18   \n",
       "0                                       16   \n",
       "12                                      14   \n",
       "5                                       14   \n",
       "19                                      16   \n",
       "2                                       14   \n",
       "4                                       14   \n",
       "9                                       12   \n",
       "17                                      12   \n",
       "8                                       10   \n",
       "13                                      10   \n",
       "\n",
       "   param_randomforestclassifier__class_weight  mean_test_accuracy  \\\n",
       "10                                   balanced            0.796075   \n",
       "16                                   balanced            0.801327   \n",
       "18                                   balanced            0.788489   \n",
       "7                                    balanced            0.792820   \n",
       "3                                    balanced            0.770400   \n",
       "6                                    balanced            0.768865   \n",
       "11                                   balanced            0.768435   \n",
       "14                                   balanced            0.754062   \n",
       "15                                       None            0.829950   \n",
       "1                                        None            0.828261   \n",
       "0                                        None            0.829551   \n",
       "12                                       None            0.830319   \n",
       "5                                        None            0.829182   \n",
       "19                                       None            0.825036   \n",
       "2                                        None            0.828230   \n",
       "4                                        None            0.828998   \n",
       "9                                        None            0.828322   \n",
       "17                                       None            0.825128   \n",
       "8                                        None            0.827524   \n",
       "13                                       None            0.826510   \n",
       "\n",
       "    mean_test_precision  mean_test_recall  mean_test_f1  \n",
       "10             0.554746          0.776558      0.647130  \n",
       "16             0.566443          0.745822      0.643855  \n",
       "18             0.542265          0.781278      0.640177  \n",
       "7              0.550996          0.754876      0.636973  \n",
       "3              0.514475          0.828082      0.634640  \n",
       "6              0.512401          0.831014      0.633879  \n",
       "11             0.511818          0.831270      0.633528  \n",
       "14             0.493813          0.848488      0.624287  \n",
       "15             0.686959          0.540109      0.604704  \n",
       "1              0.680775          0.540493      0.602530  \n",
       "0              0.688967          0.533095      0.601004  \n",
       "12             0.702289          0.513072      0.592867  \n",
       "5              0.699819          0.509246      0.589416  \n",
       "19             0.677984          0.521106      0.589179  \n",
       "2              0.695835          0.509372      0.588095  \n",
       "4              0.700385          0.506695      0.587920  \n",
       "9              0.711383          0.483484      0.575585  \n",
       "17             0.697292          0.484378      0.571503  \n",
       "8              0.718316          0.467542      0.566238  \n",
       "13             0.718349          0.460654      0.560987  "
      ]
     },
     "execution_count": 24,
     "metadata": {},
     "output_type": "execute_result"
    }
   ],
   "source": [
    "hyperparam_result = pd.DataFrame(\n",
    "    rand_search_rf.cv_results_\n",
    ").sort_values(\"rank_test_f1\")[['param_randomforestclassifier__n_estimators',\n",
    "                                     'param_randomforestclassifier__max_depth',\n",
    "                                     'param_randomforestclassifier__class_weight',\n",
    "                                     'mean_test_accuracy',\n",
    "                                     'mean_test_precision',\n",
    "                                     'mean_test_recall',\n",
    "                                     'mean_test_f1',\n",
    "                                    ]]\n",
    "hyperparam_result"
   ]
  },
  {
   "cell_type": "code",
   "execution_count": 25,
   "id": "f1b8d387-6691-4030-a978-794909aee470",
   "metadata": {},
   "outputs": [],
   "source": [
    "# Evaluate Model with test data set\n",
    "y_pred_train = rand_search_rf.predict(X_train)\n",
    "y_pred = rand_search_rf.predict(X_test)"
   ]
  },
  {
   "cell_type": "code",
   "execution_count": 26,
   "id": "14a32dc4-c211-4a8a-9909-193d0a28b889",
   "metadata": {},
   "outputs": [
    {
     "data": {
      "text/html": [
       "<div>\n",
       "<style scoped>\n",
       "    .dataframe tbody tr th:only-of-type {\n",
       "        vertical-align: middle;\n",
       "    }\n",
       "\n",
       "    .dataframe tbody tr th {\n",
       "        vertical-align: top;\n",
       "    }\n",
       "\n",
       "    .dataframe thead th {\n",
       "        text-align: right;\n",
       "    }\n",
       "</style>\n",
       "<table border=\"1\" class=\"dataframe\">\n",
       "  <thead>\n",
       "    <tr style=\"text-align: right;\">\n",
       "      <th></th>\n",
       "      <th>Accuracy</th>\n",
       "      <th>Precision</th>\n",
       "      <th>Recall</th>\n",
       "      <th>F1 Score</th>\n",
       "    </tr>\n",
       "  </thead>\n",
       "  <tbody>\n",
       "    <tr>\n",
       "      <th>Train Data</th>\n",
       "      <td>0.851571</td>\n",
       "      <td>0.629588</td>\n",
       "      <td>0.931896</td>\n",
       "      <td>0.751478</td>\n",
       "    </tr>\n",
       "    <tr>\n",
       "      <th>Test Data</th>\n",
       "      <td>0.792887</td>\n",
       "      <td>0.542718</td>\n",
       "      <td>0.782891</td>\n",
       "      <td>0.641047</td>\n",
       "    </tr>\n",
       "  </tbody>\n",
       "</table>\n",
       "</div>"
      ],
      "text/plain": [
       "            Accuracy  Precision    Recall  F1 Score\n",
       "Train Data  0.851571   0.629588  0.931896  0.751478\n",
       "Test Data   0.792887   0.542718  0.782891  0.641047"
      ]
     },
     "execution_count": 26,
     "metadata": {},
     "output_type": "execute_result"
    }
   ],
   "source": [
    "# Table of Metrics for positive class for train and test set\n",
    "model_perf_df = pd.DataFrame(\n",
    "    {\n",
    "        \"Accuracy\": [accuracy_score(y_train, y_pred_train), accuracy_score(y_test, y_pred)],\n",
    "        \"Precision\": [precision_score(y_train, y_pred_train), precision_score(y_test, y_pred)],\n",
    "        \"Recall\": [recall_score(y_train, y_pred_train), recall_score(y_test, y_pred)],\n",
    "        \"F1 Score\": [f1_score(y_train, y_pred_train), f1_score(y_test, y_pred)]\n",
    "    },\n",
    "    index=[\"Train Data\", \"Test Data\"])\n",
    "model_perf_df"
   ]
  },
  {
   "cell_type": "code",
   "execution_count": 27,
   "id": "d5778055-525d-41d3-9048-fc931fb9d2b8",
   "metadata": {},
   "outputs": [
    {
     "data": {
      "text/html": [
       "<div>\n",
       "<style scoped>\n",
       "    .dataframe tbody tr th:only-of-type {\n",
       "        vertical-align: middle;\n",
       "    }\n",
       "\n",
       "    .dataframe tbody tr th {\n",
       "        vertical-align: top;\n",
       "    }\n",
       "\n",
       "    .dataframe thead th {\n",
       "        text-align: right;\n",
       "    }\n",
       "</style>\n",
       "<table border=\"1\" class=\"dataframe\">\n",
       "  <thead>\n",
       "    <tr style=\"text-align: right;\">\n",
       "      <th></th>\n",
       "      <th>Predicted negative (0)</th>\n",
       "      <th>Predicted positive (1)</th>\n",
       "    </tr>\n",
       "  </thead>\n",
       "  <tbody>\n",
       "    <tr>\n",
       "      <th>True negative (0)</th>\n",
       "      <td>11203</td>\n",
       "      <td>1232</td>\n",
       "    </tr>\n",
       "    <tr>\n",
       "      <th>True positive (1)</th>\n",
       "      <td>1849</td>\n",
       "      <td>1997</td>\n",
       "    </tr>\n",
       "  </tbody>\n",
       "</table>\n",
       "</div>"
      ],
      "text/plain": [
       "                   Predicted negative (0)  Predicted positive (1)\n",
       "True negative (0)                   11203                    1232\n",
       "True positive (1)                    1849                    1997"
      ]
     },
     "execution_count": 27,
     "metadata": {},
     "output_type": "execute_result"
    }
   ],
   "source": [
    "# Confusion Matrix for the test set\n",
    "\n",
    "test_confusion_matrix = pd.DataFrame(confusion_matrix(y_test, cross_val_predict(pipe_forest, X_test, y_test)),\n",
    "            columns = ['Predicted negative (0)', 'Predicted positive (1)'],\n",
    "            index = ['True negative (0)', 'True positive (1)'])\n",
    "test_confusion_matrix"
   ]
  },
  {
   "cell_type": "code",
   "execution_count": 28,
   "id": "1a5b00a0-9c45-4259-bb98-0677c144b538",
   "metadata": {},
   "outputs": [],
   "source": [
    "# Classification report for test set\n",
    "\n",
    "pipe_forest.fit(X_train, y_train)\n",
    "\n",
    "y_pred = pipe_forest.predict(X_test)\n",
    "report = classification_report(y_test, y_pred, target_names=[\"negative (0)\", \"positive (1)\"], output_dict=True)\n",
    "classification_report = pd.DataFrame(report).transpose()"
   ]
  },
  {
   "cell_type": "code",
   "execution_count": 29,
   "id": "474c6615-cb63-4ef4-bc56-3909171065a9",
   "metadata": {},
   "outputs": [
    {
     "data": {
      "text/html": [
       "<div>\n",
       "<style scoped>\n",
       "    .dataframe tbody tr th:only-of-type {\n",
       "        vertical-align: middle;\n",
       "    }\n",
       "\n",
       "    .dataframe tbody tr th {\n",
       "        vertical-align: top;\n",
       "    }\n",
       "\n",
       "    .dataframe thead th {\n",
       "        text-align: right;\n",
       "    }\n",
       "</style>\n",
       "<table border=\"1\" class=\"dataframe\">\n",
       "  <thead>\n",
       "    <tr style=\"text-align: right;\">\n",
       "      <th></th>\n",
       "      <th>precision</th>\n",
       "      <th>recall</th>\n",
       "      <th>threshold</th>\n",
       "      <th>F1 Score</th>\n",
       "    </tr>\n",
       "  </thead>\n",
       "  <tbody>\n",
       "    <tr>\n",
       "      <th>0</th>\n",
       "      <td>0.424871</td>\n",
       "      <td>1.000000</td>\n",
       "      <td>0.143969</td>\n",
       "      <td>0.596364</td>\n",
       "    </tr>\n",
       "    <tr>\n",
       "      <th>1</th>\n",
       "      <td>0.424840</td>\n",
       "      <td>0.999872</td>\n",
       "      <td>0.143974</td>\n",
       "      <td>0.596311</td>\n",
       "    </tr>\n",
       "    <tr>\n",
       "      <th>2</th>\n",
       "      <td>0.424863</td>\n",
       "      <td>0.999872</td>\n",
       "      <td>0.144014</td>\n",
       "      <td>0.596334</td>\n",
       "    </tr>\n",
       "    <tr>\n",
       "      <th>3</th>\n",
       "      <td>0.424886</td>\n",
       "      <td>0.999872</td>\n",
       "      <td>0.144134</td>\n",
       "      <td>0.596356</td>\n",
       "    </tr>\n",
       "    <tr>\n",
       "      <th>4</th>\n",
       "      <td>0.424909</td>\n",
       "      <td>0.999872</td>\n",
       "      <td>0.144137</td>\n",
       "      <td>0.596379</td>\n",
       "    </tr>\n",
       "    <tr>\n",
       "      <th>...</th>\n",
       "      <td>...</td>\n",
       "      <td>...</td>\n",
       "      <td>...</td>\n",
       "      <td>...</td>\n",
       "    </tr>\n",
       "    <tr>\n",
       "      <th>18009</th>\n",
       "      <td>1.000000</td>\n",
       "      <td>0.000510</td>\n",
       "      <td>0.968977</td>\n",
       "      <td>0.001020</td>\n",
       "    </tr>\n",
       "    <tr>\n",
       "      <th>18010</th>\n",
       "      <td>1.000000</td>\n",
       "      <td>0.000383</td>\n",
       "      <td>0.969254</td>\n",
       "      <td>0.000765</td>\n",
       "    </tr>\n",
       "    <tr>\n",
       "      <th>18011</th>\n",
       "      <td>1.000000</td>\n",
       "      <td>0.000255</td>\n",
       "      <td>0.971625</td>\n",
       "      <td>0.000510</td>\n",
       "    </tr>\n",
       "    <tr>\n",
       "      <th>18012</th>\n",
       "      <td>1.000000</td>\n",
       "      <td>0.000128</td>\n",
       "      <td>0.971725</td>\n",
       "      <td>0.000255</td>\n",
       "    </tr>\n",
       "    <tr>\n",
       "      <th>18013</th>\n",
       "      <td>1.000000</td>\n",
       "      <td>0.000000</td>\n",
       "      <td>NaN</td>\n",
       "      <td>0.000000</td>\n",
       "    </tr>\n",
       "  </tbody>\n",
       "</table>\n",
       "<p>18014 rows × 4 columns</p>\n",
       "</div>"
      ],
      "text/plain": [
       "       precision    recall  threshold  F1 Score\n",
       "0       0.424871  1.000000   0.143969  0.596364\n",
       "1       0.424840  0.999872   0.143974  0.596311\n",
       "2       0.424863  0.999872   0.144014  0.596334\n",
       "3       0.424886  0.999872   0.144134  0.596356\n",
       "4       0.424909  0.999872   0.144137  0.596379\n",
       "...          ...       ...        ...       ...\n",
       "18009   1.000000  0.000510   0.968977  0.001020\n",
       "18010   1.000000  0.000383   0.969254  0.000765\n",
       "18011   1.000000  0.000255   0.971625  0.000510\n",
       "18012   1.000000  0.000128   0.971725  0.000255\n",
       "18013   1.000000  0.000000        NaN  0.000000\n",
       "\n",
       "[18014 rows x 4 columns]"
      ]
     },
     "execution_count": 29,
     "metadata": {},
     "output_type": "execute_result"
    }
   ],
   "source": [
    "# Table of Metrics for train set\n",
    "\n",
    "PR_curve_df = pd.DataFrame(precision_recall_curve(y_train, rand_search_rf.predict_proba(X_train)[:,1],), index=[\"precision\",\"recall\",\"threshold\"]).T\n",
    "PR_curve_df['F1 Score'] =  2 * (PR_curve_df['precision'] * PR_curve_df['recall'])/(PR_curve_df['precision'] + PR_curve_df['recall'])\n",
    "PR_curve_df"
   ]
  },
  {
   "cell_type": "code",
   "execution_count": 30,
   "id": "860e6274-5375-44bf-9a69-59093a06b57f",
   "metadata": {},
   "outputs": [
    {
     "name": "stdout",
     "output_type": "stream",
     "text": [
      "Average precision of Random Forest Classifier: 0.614\n"
     ]
    }
   ],
   "source": [
    "# Average precision score for test set\n",
    "\n",
    "ap_forest = average_precision_score(y_test, pipe_forest.predict_proba(X_test)[:, 1])\n",
    "print(\"Average precision of Random Forest Classifier: {:.3f}\".format(ap_forest))"
   ]
  },
  {
   "cell_type": "code",
   "execution_count": 31,
   "id": "54e616f5-78e2-4c2f-9d57-22d607858ccb",
   "metadata": {},
   "outputs": [
    {
     "data": {
      "text/html": [
       "<div>\n",
       "<style scoped>\n",
       "    .dataframe tbody tr th:only-of-type {\n",
       "        vertical-align: middle;\n",
       "    }\n",
       "\n",
       "    .dataframe tbody tr th {\n",
       "        vertical-align: top;\n",
       "    }\n",
       "\n",
       "    .dataframe thead th {\n",
       "        text-align: right;\n",
       "    }\n",
       "</style>\n",
       "<table border=\"1\" class=\"dataframe\">\n",
       "  <thead>\n",
       "    <tr style=\"text-align: right;\">\n",
       "      <th></th>\n",
       "      <th>precision</th>\n",
       "      <th>recall</th>\n",
       "      <th>threshold</th>\n",
       "      <th>F1 Score</th>\n",
       "    </tr>\n",
       "  </thead>\n",
       "  <tbody>\n",
       "    <tr>\n",
       "      <th>7784</th>\n",
       "      <td>0.660985</td>\n",
       "      <td>0.890193</td>\n",
       "      <td>0.551693</td>\n",
       "      <td>0.758654</td>\n",
       "    </tr>\n",
       "  </tbody>\n",
       "</table>\n",
       "</div>"
      ],
      "text/plain": [
       "      precision    recall  threshold  F1 Score\n",
       "7784   0.660985  0.890193   0.551693  0.758654"
      ]
     },
     "execution_count": 31,
     "metadata": {},
     "output_type": "execute_result"
    }
   ],
   "source": [
    "# Threshold to get best F1 score\n",
    "max_f1_df = PR_curve_df.iloc[PR_curve_df[\"F1 Score\"].idxmax()].to_frame().T\n",
    "best_thres = max_f1_df['threshold'].iloc[0]\n",
    "max_f1_df"
   ]
  },
  {
   "cell_type": "code",
   "execution_count": 32,
   "id": "86c2452f-e016-40d5-a771-e4a5c8a9a4f2",
   "metadata": {},
   "outputs": [
    {
     "data": {
      "application/vnd.vegalite.v4+json": {
       "$schema": "https://vega.github.io/schema/vega-lite/v4.8.1.json",
       "config": {
        "view": {
         "continuousHeight": 300,
         "continuousWidth": 400
        }
       },
       "layer": [
        {
         "data": {
          "url": "http://localhost:16593/56ecebbfaf1622f3b1c8c0de68c673c9.json"
         },
         "encoding": {
          "color": {
           "field": "F1 Score",
           "type": "quantitative"
          },
          "x": {
           "field": "recall",
           "type": "quantitative"
          },
          "y": {
           "field": "precision",
           "type": "quantitative"
          }
         },
         "mark": "circle"
        },
        {
         "data": {
          "url": "http://localhost:16593/087c658f2effd3005779bafd17be7829.json"
         },
         "encoding": {
          "x": {
           "field": "recall",
           "type": "quantitative"
          },
          "y": {
           "field": "precision",
           "type": "quantitative"
          }
         },
         "mark": {
          "color": "red",
          "opacity": 1,
          "size": 100,
          "type": "circle"
         },
         "title": "PR curve with best threshold"
        },
        {
         "data": {
          "url": "http://localhost:16593/087c658f2effd3005779bafd17be7829.json"
         },
         "encoding": {
          "text": {
           "field": "threshold",
           "format": ".2f",
           "type": "quantitative"
          },
          "x": {
           "field": "recall",
           "type": "quantitative"
          },
          "y": {
           "field": "precision",
           "type": "quantitative"
          }
         },
         "mark": {
          "align": "left",
          "baseline": "middle",
          "dx": 15,
          "type": "text"
         },
         "title": "PR curve with best threshold"
        }
       ]
      },
      "image/png": "[encoded data removed]",
      "text/plain": [
       "<VegaLite 4 object>\n",
       "\n",
       "If you see this message, it means the renderer has not been properly enabled\n",
       "for the frontend that you are using. For more information, see\n",
       "https://altair-viz.github.io/user_guide/troubleshooting.html\n"
      ]
     },
     "execution_count": 32,
     "metadata": {},
     "output_type": "execute_result"
    }
   ],
   "source": [
    "# PR curve with best threshold\n",
    "\n",
    "PR_curve = alt.Chart(PR_curve_df).mark_circle().encode(\n",
    "    x=\"recall\",\n",
    "    y=\"precision\",\n",
    "    color=\"F1 Score\"\n",
    ")\n",
    "max_f1_point = alt.Chart(max_f1_df, \n",
    "                         title = 'PR curve with best threshold',).mark_circle(\n",
    "    color=\"red\", size=100, opacity=1).encode(\n",
    "    x=\"recall\",\n",
    "    y=\"precision\"\n",
    ")\n",
    "\n",
    "text = max_f1_point.mark_text(\n",
    "    align='left',\n",
    "    baseline='middle',\n",
    "    dx=15).encode(text= alt.Text(\"threshold\", format = \".2f\"))\n",
    "\n",
    "PR_curve_plot = PR_curve + max_f1_point + text\n",
    "PR_curve_plot"
   ]
  },
  {
   "cell_type": "code",
   "execution_count": 33,
   "id": "5a7428e0-cf81-4121-b385-d30fd5b65e67",
   "metadata": {},
   "outputs": [],
   "source": [
    "# Evaluate Model with test data set with best_thres\n",
    "y_pred_train_thres = rand_search_rf.predict_proba(X_train)[:, 1] > best_thres\n",
    "y_pred_thres = rand_search_rf.predict_proba(X_test)[:, 1] > best_thres"
   ]
  },
  {
   "cell_type": "code",
   "execution_count": 34,
   "id": "4f24345c-475b-4e8a-8aef-5fbd9ef05c36",
   "metadata": {},
   "outputs": [],
   "source": [
    "# Table of Metrics for positive class with best_thres\n",
    "model_perf_thres_df = pd.DataFrame(\n",
    "    {\n",
    "        \"Accuracy\": [accuracy_score(y_train, y_pred_train_thres), accuracy_score(y_test, y_pred_thres)],\n",
    "        \"Precision\": [precision_score(y_train, y_pred_train_thres), precision_score(y_test, y_pred_thres)],\n",
    "        \"Recall\": [recall_score(y_train, y_pred_train_thres), recall_score(y_test, y_pred_thres)],\n",
    "        \"F1 Score\": [f1_score(y_train, y_pred_train_thres), f1_score(y_test, y_pred_thres)]\n",
    "    },\n",
    "    index=[\"Train Data w/ best threshold\", \"Test Data w/ best threshold\"])"
   ]
  },
  {
   "cell_type": "code",
   "execution_count": 35,
   "id": "990f8f59-ed2e-464a-9a9b-51317ae5ca0a",
   "metadata": {},
   "outputs": [
    {
     "data": {
      "text/html": [
       "<div>\n",
       "<style scoped>\n",
       "    .dataframe tbody tr th:only-of-type {\n",
       "        vertical-align: middle;\n",
       "    }\n",
       "\n",
       "    .dataframe tbody tr th {\n",
       "        vertical-align: top;\n",
       "    }\n",
       "\n",
       "    .dataframe thead th {\n",
       "        text-align: right;\n",
       "    }\n",
       "</style>\n",
       "<table border=\"1\" class=\"dataframe\">\n",
       "  <thead>\n",
       "    <tr style=\"text-align: right;\">\n",
       "      <th></th>\n",
       "      <th>Accuracy</th>\n",
       "      <th>Precision</th>\n",
       "      <th>Recall</th>\n",
       "      <th>F1 Score</th>\n",
       "    </tr>\n",
       "  </thead>\n",
       "  <tbody>\n",
       "    <tr>\n",
       "      <th>Train Data</th>\n",
       "      <td>0.851571</td>\n",
       "      <td>0.629588</td>\n",
       "      <td>0.931896</td>\n",
       "      <td>0.751478</td>\n",
       "    </tr>\n",
       "    <tr>\n",
       "      <th>Test Data</th>\n",
       "      <td>0.792887</td>\n",
       "      <td>0.542718</td>\n",
       "      <td>0.782891</td>\n",
       "      <td>0.641047</td>\n",
       "    </tr>\n",
       "    <tr>\n",
       "      <th>Train Data w/ best threshold</th>\n",
       "      <td>0.863579</td>\n",
       "      <td>0.660953</td>\n",
       "      <td>0.890065</td>\n",
       "      <td>0.758587</td>\n",
       "    </tr>\n",
       "    <tr>\n",
       "      <th>Test Data w/ best threshold</th>\n",
       "      <td>0.805172</td>\n",
       "      <td>0.567752</td>\n",
       "      <td>0.734269</td>\n",
       "      <td>0.640363</td>\n",
       "    </tr>\n",
       "  </tbody>\n",
       "</table>\n",
       "</div>"
      ],
      "text/plain": [
       "                              Accuracy  Precision    Recall  F1 Score\n",
       "Train Data                    0.851571   0.629588  0.931896  0.751478\n",
       "Test Data                     0.792887   0.542718  0.782891  0.641047\n",
       "Train Data w/ best threshold  0.863579   0.660953  0.890065  0.758587\n",
       "Test Data w/ best threshold   0.805172   0.567752  0.734269  0.640363"
      ]
     },
     "execution_count": 35,
     "metadata": {},
     "output_type": "execute_result"
    }
   ],
   "source": [
    "model_perf_best_thres_df = pd.concat([model_perf_df, model_perf_thres_df])\n",
    "model_perf_best_thres_df"
   ]
  },
  {
   "cell_type": "code",
   "execution_count": 36,
   "id": "5f8395aa-1a87-4949-ac13-c23d4add7d92",
   "metadata": {},
   "outputs": [
    {
     "data": {
      "application/vnd.vegalite.v4+json": {
       "$schema": "https://vega.github.io/schema/vega-lite/v4.8.1.json",
       "config": {
        "view": {
         "continuousHeight": 300,
         "continuousWidth": 400
        }
       },
       "layer": [
        {
         "data": {
          "url": "http://localhost:16593/2f8eafd7e7b7c9e12d9987dae26523f5.json"
         },
         "encoding": {
          "x": {
           "field": "fpr",
           "title": "false positive rate",
           "type": "quantitative"
          },
          "y": {
           "field": "tpr",
           "title": "true positive rate",
           "type": "quantitative"
          }
         },
         "mark": "line",
         "title": "ROC Curve"
        },
        {
         "data": {
          "url": "http://localhost:16593/b780997eefe9a7c93a9e786c142db882.json"
         },
         "encoding": {
          "x": {
           "field": "fpr",
           "type": "quantitative"
          },
          "y": {
           "field": "tpr",
           "type": "quantitative"
          }
         },
         "mark": {
          "color": "red",
          "opacity": 1,
          "size": 100,
          "type": "circle"
         }
        },
        {
         "data": {
          "url": "http://localhost:16593/b780997eefe9a7c93a9e786c142db882.json"
         },
         "encoding": {
          "text": {
           "field": "thresholds",
           "format": ".2f",
           "type": "quantitative"
          },
          "x": {
           "field": "fpr",
           "type": "quantitative"
          },
          "y": {
           "field": "tpr",
           "type": "quantitative"
          }
         },
         "mark": {
          "align": "left",
          "baseline": "middle",
          "dx": 15,
          "type": "text"
         }
        }
       ]
      },
      "image/png": "[encoded data removed]",
      "text/plain": [
       "<VegaLite 4 object>\n",
       "\n",
       "If you see this message, it means the renderer has not been properly enabled\n",
       "for the frontend that you are using. For more information, see\n",
       "https://altair-viz.github.io/user_guide/troubleshooting.html\n"
      ]
     },
     "execution_count": 36,
     "metadata": {},
     "output_type": "execute_result"
    }
   ],
   "source": [
    "# # ROC Curve\n",
    "\n",
    "fpr, tpr, thresholds = roc_curve(y_test, rand_search_rf.predict_proba(X_test)[:, 1])\n",
    "\n",
    "roc_df = pd.DataFrame()\n",
    "roc_df['fpr'] = fpr\n",
    "roc_df['tpr'] = tpr\n",
    "roc_df['thresholds'] = thresholds\n",
    "\n",
    "pt_roc_idx = (roc_df['thresholds'] - best_thres).abs().argmin()\n",
    "\n",
    "roc_curves = alt.Chart(roc_df, title = \"ROC Curve\").mark_line().encode(\n",
    "        alt.X('fpr', title=\"false positive rate\"),\n",
    "        alt.Y('tpr', title=\"true positive rate\"))\n",
    "\n",
    "roc_max_f1_point = alt.Chart(pd.DataFrame(roc_df.iloc[pt_roc_idx]).T, \n",
    "                         ).mark_circle(\n",
    "    color=\"red\", size=100, opacity=1).encode(\n",
    "    x=\"fpr\",\n",
    "    y=\"tpr\"\n",
    ")\n",
    "\n",
    "roc_text = roc_max_f1_point.mark_text(\n",
    "    align='left',\n",
    "    baseline='middle',\n",
    "    dx=15).encode(text= alt.Text(\"thresholds:Q\", format = \".2f\"))\n",
    "\n",
    "roc_curve_plot = roc_curves + roc_max_f1_point + roc_text\n",
    "roc_curve_plot"
   ]
  },
  {
   "cell_type": "code",
   "execution_count": 37,
   "id": "e5fcd5e3-2b07-41c4-8e05-9674f04f4425",
   "metadata": {},
   "outputs": [
    {
     "data": {
      "text/html": [
       "<div>\n",
       "<style scoped>\n",
       "    .dataframe tbody tr th:only-of-type {\n",
       "        vertical-align: middle;\n",
       "    }\n",
       "\n",
       "    .dataframe tbody tr th {\n",
       "        vertical-align: top;\n",
       "    }\n",
       "\n",
       "    .dataframe thead th {\n",
       "        text-align: right;\n",
       "    }\n",
       "</style>\n",
       "<table border=\"1\" class=\"dataframe\">\n",
       "  <thead>\n",
       "    <tr style=\"text-align: right;\">\n",
       "      <th></th>\n",
       "      <th>Test Data Metrics</th>\n",
       "    </tr>\n",
       "  </thead>\n",
       "  <tbody>\n",
       "    <tr>\n",
       "      <th>Accuracy</th>\n",
       "      <td>0.805172</td>\n",
       "    </tr>\n",
       "    <tr>\n",
       "      <th>Precision</th>\n",
       "      <td>0.567752</td>\n",
       "    </tr>\n",
       "    <tr>\n",
       "      <th>Recall</th>\n",
       "      <td>0.734269</td>\n",
       "    </tr>\n",
       "    <tr>\n",
       "      <th>F1 Score</th>\n",
       "      <td>0.640363</td>\n",
       "    </tr>\n",
       "    <tr>\n",
       "      <th>Average Precision Score</th>\n",
       "      <td>0.669854</td>\n",
       "    </tr>\n",
       "    <tr>\n",
       "      <th>AUC Score</th>\n",
       "      <td>0.877095</td>\n",
       "    </tr>\n",
       "  </tbody>\n",
       "</table>\n",
       "</div>"
      ],
      "text/plain": [
       "                         Test Data Metrics\n",
       "Accuracy                          0.805172\n",
       "Precision                         0.567752\n",
       "Recall                            0.734269\n",
       "F1 Score                          0.640363\n",
       "Average Precision Score           0.669854\n",
       "AUC Score                         0.877095"
      ]
     },
     "execution_count": 37,
     "metadata": {},
     "output_type": "execute_result"
    }
   ],
   "source": [
    "# ROC_AUC and AP score\n",
    "\n",
    "ap_forest = average_precision_score(y_test, rand_search_rf.predict_proba(X_test)[:, 1])\n",
    "roc_forest = roc_auc_score(y_test, rand_search_rf.predict_proba(X_test)[:, 1])\n",
    "\n",
    "test_model_perf_df = pd.DataFrame({\n",
    "    \"Accuracy\" : model_perf_thres_df.loc[\"Test Data w/ best threshold\"][\"Accuracy\"],\n",
    "    \"Precision\" : model_perf_thres_df.loc[\"Test Data w/ best threshold\"][\"Precision\"],\n",
    "    \"Recall\" : model_perf_thres_df.loc[\"Test Data w/ best threshold\"][\"Recall\"],\n",
    "    \"F1 Score\" : model_perf_thres_df.loc[\"Test Data w/ best threshold\"][\"F1 Score\"],\n",
    "    \"Average Precision Score\" : ap_forest,\n",
    "    \"AUC Score\" : roc_forest},\n",
    "    index = [\"Test Data Metrics\"]).T\n",
    "test_model_perf_df"
   ]
  },
  {
   "cell_type": "code",
   "execution_count": null,
   "id": "cdea0b3e-a00b-4ed0-beaa-5bcbafa3ac40",
   "metadata": {},
   "outputs": [],
   "source": []
  },
  {
   "cell_type": "code",
   "execution_count": null,
   "id": "20c1f2aa-855f-4723-b8e8-8ee1521ebbf1",
   "metadata": {},
   "outputs": [],
   "source": []
  },
  {
   "cell_type": "code",
   "execution_count": null,
   "id": "3a9264ac-87af-48ac-b142-f4587c08baf7",
   "metadata": {},
   "outputs": [],
   "source": []
  },
  {
   "cell_type": "code",
   "execution_count": null,
   "id": "61dcec59-afb5-4bc2-a016-dcf4c5ee6ca2",
   "metadata": {},
   "outputs": [],
   "source": []
  }
 ],
 "metadata": {
  "kernelspec": {
   "display_name": "Python [conda env:571]",
   "language": "python",
   "name": "conda-env-571-py"
  },
  "language_info": {
   "codemirror_mode": {
    "name": "ipython",
    "version": 3
   },
   "file_extension": ".py",
   "mimetype": "text/x-python",
   "name": "python",
   "nbconvert_exporter": "python",
   "pygments_lexer": "ipython3",
   "version": "3.9.7"
  }
 },
 "nbformat": 4,
 "nbformat_minor": 5
}
